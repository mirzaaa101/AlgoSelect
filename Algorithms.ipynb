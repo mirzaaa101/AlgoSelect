{
 "cells": [
  {
   "cell_type": "markdown",
   "id": "6ee7416c",
   "metadata": {},
   "source": [
    "### Load The Data"
   ]
  },
  {
   "cell_type": "code",
   "execution_count": 1,
   "id": "ce47f4c4",
   "metadata": {},
   "outputs": [
    {
     "data": {
      "text/html": [
       "<div>\n",
       "<style scoped>\n",
       "    .dataframe tbody tr th:only-of-type {\n",
       "        vertical-align: middle;\n",
       "    }\n",
       "\n",
       "    .dataframe tbody tr th {\n",
       "        vertical-align: top;\n",
       "    }\n",
       "\n",
       "    .dataframe thead th {\n",
       "        text-align: right;\n",
       "    }\n",
       "</style>\n",
       "<table border=\"1\" class=\"dataframe\">\n",
       "  <thead>\n",
       "    <tr style=\"text-align: right;\">\n",
       "      <th></th>\n",
       "      <th>Sex</th>\n",
       "      <th>Height</th>\n",
       "      <th>Weight</th>\n",
       "      <th>Pregnancy status</th>\n",
       "      <th>Age_Adolescent</th>\n",
       "      <th>Age_Child</th>\n",
       "      <th>Age_Infant</th>\n",
       "      <th>Age_Neonate</th>\n",
       "      <th>Murmur</th>\n",
       "    </tr>\n",
       "  </thead>\n",
       "  <tbody>\n",
       "    <tr>\n",
       "      <th>0</th>\n",
       "      <td>1</td>\n",
       "      <td>98.0</td>\n",
       "      <td>15.9</td>\n",
       "      <td>0</td>\n",
       "      <td>0</td>\n",
       "      <td>1</td>\n",
       "      <td>0</td>\n",
       "      <td>0</td>\n",
       "      <td>0</td>\n",
       "    </tr>\n",
       "    <tr>\n",
       "      <th>1</th>\n",
       "      <td>1</td>\n",
       "      <td>103.0</td>\n",
       "      <td>13.1</td>\n",
       "      <td>0</td>\n",
       "      <td>0</td>\n",
       "      <td>1</td>\n",
       "      <td>0</td>\n",
       "      <td>0</td>\n",
       "      <td>1</td>\n",
       "    </tr>\n",
       "    <tr>\n",
       "      <th>2</th>\n",
       "      <td>0</td>\n",
       "      <td>98.0</td>\n",
       "      <td>15.9</td>\n",
       "      <td>0</td>\n",
       "      <td>0</td>\n",
       "      <td>1</td>\n",
       "      <td>0</td>\n",
       "      <td>0</td>\n",
       "      <td>1</td>\n",
       "    </tr>\n",
       "    <tr>\n",
       "      <th>3</th>\n",
       "      <td>0</td>\n",
       "      <td>87.0</td>\n",
       "      <td>11.2</td>\n",
       "      <td>0</td>\n",
       "      <td>0</td>\n",
       "      <td>1</td>\n",
       "      <td>0</td>\n",
       "      <td>0</td>\n",
       "      <td>1</td>\n",
       "    </tr>\n",
       "    <tr>\n",
       "      <th>4</th>\n",
       "      <td>0</td>\n",
       "      <td>115.0</td>\n",
       "      <td>21.3</td>\n",
       "      <td>0</td>\n",
       "      <td>0</td>\n",
       "      <td>1</td>\n",
       "      <td>0</td>\n",
       "      <td>0</td>\n",
       "      <td>0</td>\n",
       "    </tr>\n",
       "  </tbody>\n",
       "</table>\n",
       "</div>"
      ],
      "text/plain": [
       "   Sex  Height  Weight  Pregnancy status  Age_Adolescent  Age_Child  \\\n",
       "0    1    98.0    15.9                 0               0          1   \n",
       "1    1   103.0    13.1                 0               0          1   \n",
       "2    0    98.0    15.9                 0               0          1   \n",
       "3    0    87.0    11.2                 0               0          1   \n",
       "4    0   115.0    21.3                 0               0          1   \n",
       "\n",
       "   Age_Infant  Age_Neonate  Murmur  \n",
       "0           0            0       0  \n",
       "1           0            0       1  \n",
       "2           0            0       1  \n",
       "3           0            0       1  \n",
       "4           0            0       0  "
      ]
     },
     "execution_count": 1,
     "metadata": {},
     "output_type": "execute_result"
    }
   ],
   "source": [
    "import pandas as pd\n",
    "\n",
    "train = pd.read_csv('train_preprocessed.csv')\n",
    "train.head()"
   ]
  },
  {
   "cell_type": "code",
   "execution_count": 2,
   "id": "4d2bfa30",
   "metadata": {},
   "outputs": [
    {
     "name": "stdout",
     "output_type": "stream",
     "text": [
      "<class 'pandas.core.frame.DataFrame'>\n",
      "RangeIndex: 874 entries, 0 to 873\n",
      "Data columns (total 9 columns):\n",
      " #   Column            Non-Null Count  Dtype  \n",
      "---  ------            --------------  -----  \n",
      " 0   Sex               874 non-null    int64  \n",
      " 1   Height            874 non-null    float64\n",
      " 2   Weight            874 non-null    float64\n",
      " 3   Pregnancy status  874 non-null    int64  \n",
      " 4   Age_Adolescent    874 non-null    int64  \n",
      " 5   Age_Child         874 non-null    int64  \n",
      " 6   Age_Infant        874 non-null    int64  \n",
      " 7   Age_Neonate       874 non-null    int64  \n",
      " 8   Murmur            874 non-null    int64  \n",
      "dtypes: float64(2), int64(7)\n",
      "memory usage: 61.6 KB\n"
     ]
    }
   ],
   "source": [
    "train.info()"
   ]
  },
  {
   "cell_type": "code",
   "execution_count": 3,
   "id": "43805bc5",
   "metadata": {},
   "outputs": [
    {
     "data": {
      "text/html": [
       "<div>\n",
       "<style scoped>\n",
       "    .dataframe tbody tr th:only-of-type {\n",
       "        vertical-align: middle;\n",
       "    }\n",
       "\n",
       "    .dataframe tbody tr th {\n",
       "        vertical-align: top;\n",
       "    }\n",
       "\n",
       "    .dataframe thead th {\n",
       "        text-align: right;\n",
       "    }\n",
       "</style>\n",
       "<table border=\"1\" class=\"dataframe\">\n",
       "  <thead>\n",
       "    <tr style=\"text-align: right;\">\n",
       "      <th></th>\n",
       "      <th>Sex</th>\n",
       "      <th>Height</th>\n",
       "      <th>Weight</th>\n",
       "      <th>Pregnancy status</th>\n",
       "      <th>Age_Adolescent</th>\n",
       "      <th>Age_Child</th>\n",
       "      <th>Age_Infant</th>\n",
       "      <th>Age_Neonate</th>\n",
       "      <th>Murmur</th>\n",
       "    </tr>\n",
       "  </thead>\n",
       "  <tbody>\n",
       "    <tr>\n",
       "      <th>count</th>\n",
       "      <td>874.000000</td>\n",
       "      <td>874.000000</td>\n",
       "      <td>874.000000</td>\n",
       "      <td>874.000000</td>\n",
       "      <td>874.000000</td>\n",
       "      <td>874.000000</td>\n",
       "      <td>874.000000</td>\n",
       "      <td>874.000000</td>\n",
       "      <td>874.000000</td>\n",
       "    </tr>\n",
       "    <tr>\n",
       "      <th>mean</th>\n",
       "      <td>0.511442</td>\n",
       "      <td>115.167048</td>\n",
       "      <td>26.971968</td>\n",
       "      <td>0.077803</td>\n",
       "      <td>0.161327</td>\n",
       "      <td>0.717391</td>\n",
       "      <td>0.115561</td>\n",
       "      <td>0.005721</td>\n",
       "      <td>0.204805</td>\n",
       "    </tr>\n",
       "    <tr>\n",
       "      <th>std</th>\n",
       "      <td>0.500155</td>\n",
       "      <td>30.408476</td>\n",
       "      <td>17.859723</td>\n",
       "      <td>0.268015</td>\n",
       "      <td>0.368043</td>\n",
       "      <td>0.450526</td>\n",
       "      <td>0.319880</td>\n",
       "      <td>0.075463</td>\n",
       "      <td>0.403790</td>\n",
       "    </tr>\n",
       "    <tr>\n",
       "      <th>min</th>\n",
       "      <td>0.000000</td>\n",
       "      <td>35.000000</td>\n",
       "      <td>3.200000</td>\n",
       "      <td>0.000000</td>\n",
       "      <td>0.000000</td>\n",
       "      <td>0.000000</td>\n",
       "      <td>0.000000</td>\n",
       "      <td>0.000000</td>\n",
       "      <td>0.000000</td>\n",
       "    </tr>\n",
       "    <tr>\n",
       "      <th>25%</th>\n",
       "      <td>0.000000</td>\n",
       "      <td>94.000000</td>\n",
       "      <td>13.900000</td>\n",
       "      <td>0.000000</td>\n",
       "      <td>0.000000</td>\n",
       "      <td>0.000000</td>\n",
       "      <td>0.000000</td>\n",
       "      <td>0.000000</td>\n",
       "      <td>0.000000</td>\n",
       "    </tr>\n",
       "    <tr>\n",
       "      <th>50%</th>\n",
       "      <td>1.000000</td>\n",
       "      <td>117.000000</td>\n",
       "      <td>22.100000</td>\n",
       "      <td>0.000000</td>\n",
       "      <td>0.000000</td>\n",
       "      <td>1.000000</td>\n",
       "      <td>0.000000</td>\n",
       "      <td>0.000000</td>\n",
       "      <td>0.000000</td>\n",
       "    </tr>\n",
       "    <tr>\n",
       "      <th>75%</th>\n",
       "      <td>1.000000</td>\n",
       "      <td>139.000000</td>\n",
       "      <td>35.425000</td>\n",
       "      <td>0.000000</td>\n",
       "      <td>0.000000</td>\n",
       "      <td>1.000000</td>\n",
       "      <td>0.000000</td>\n",
       "      <td>0.000000</td>\n",
       "      <td>0.000000</td>\n",
       "    </tr>\n",
       "    <tr>\n",
       "      <th>max</th>\n",
       "      <td>1.000000</td>\n",
       "      <td>180.000000</td>\n",
       "      <td>110.800000</td>\n",
       "      <td>1.000000</td>\n",
       "      <td>1.000000</td>\n",
       "      <td>1.000000</td>\n",
       "      <td>1.000000</td>\n",
       "      <td>1.000000</td>\n",
       "      <td>1.000000</td>\n",
       "    </tr>\n",
       "  </tbody>\n",
       "</table>\n",
       "</div>"
      ],
      "text/plain": [
       "              Sex      Height      Weight  Pregnancy status  Age_Adolescent  \\\n",
       "count  874.000000  874.000000  874.000000        874.000000      874.000000   \n",
       "mean     0.511442  115.167048   26.971968          0.077803        0.161327   \n",
       "std      0.500155   30.408476   17.859723          0.268015        0.368043   \n",
       "min      0.000000   35.000000    3.200000          0.000000        0.000000   \n",
       "25%      0.000000   94.000000   13.900000          0.000000        0.000000   \n",
       "50%      1.000000  117.000000   22.100000          0.000000        0.000000   \n",
       "75%      1.000000  139.000000   35.425000          0.000000        0.000000   \n",
       "max      1.000000  180.000000  110.800000          1.000000        1.000000   \n",
       "\n",
       "        Age_Child  Age_Infant  Age_Neonate      Murmur  \n",
       "count  874.000000  874.000000   874.000000  874.000000  \n",
       "mean     0.717391    0.115561     0.005721    0.204805  \n",
       "std      0.450526    0.319880     0.075463    0.403790  \n",
       "min      0.000000    0.000000     0.000000    0.000000  \n",
       "25%      0.000000    0.000000     0.000000    0.000000  \n",
       "50%      1.000000    0.000000     0.000000    0.000000  \n",
       "75%      1.000000    0.000000     0.000000    0.000000  \n",
       "max      1.000000    1.000000     1.000000    1.000000  "
      ]
     },
     "execution_count": 3,
     "metadata": {},
     "output_type": "execute_result"
    }
   ],
   "source": [
    "train.describe()"
   ]
  },
  {
   "cell_type": "code",
   "execution_count": 4,
   "id": "19b7b26e",
   "metadata": {},
   "outputs": [
    {
     "data": {
      "text/plain": [
       "0    695\n",
       "1    179\n",
       "Name: Murmur, dtype: int64"
      ]
     },
     "execution_count": 4,
     "metadata": {},
     "output_type": "execute_result"
    }
   ],
   "source": [
    "train['Murmur'].value_counts()"
   ]
  },
  {
   "cell_type": "code",
   "execution_count": 5,
   "id": "52fd123b",
   "metadata": {},
   "outputs": [],
   "source": [
    "X_train = train.drop(['Murmur'], axis=1)\n",
    "y_train = train['Murmur']"
   ]
  },
  {
   "cell_type": "code",
   "execution_count": 6,
   "id": "8ca5ab8b",
   "metadata": {},
   "outputs": [
    {
     "data": {
      "text/html": [
       "<div>\n",
       "<style scoped>\n",
       "    .dataframe tbody tr th:only-of-type {\n",
       "        vertical-align: middle;\n",
       "    }\n",
       "\n",
       "    .dataframe tbody tr th {\n",
       "        vertical-align: top;\n",
       "    }\n",
       "\n",
       "    .dataframe thead th {\n",
       "        text-align: right;\n",
       "    }\n",
       "</style>\n",
       "<table border=\"1\" class=\"dataframe\">\n",
       "  <thead>\n",
       "    <tr style=\"text-align: right;\">\n",
       "      <th></th>\n",
       "      <th>Sex</th>\n",
       "      <th>Height</th>\n",
       "      <th>Weight</th>\n",
       "      <th>Pregnancy status</th>\n",
       "      <th>Age_Adolescent</th>\n",
       "      <th>Age_Child</th>\n",
       "      <th>Age_Infant</th>\n",
       "      <th>Age_Neonate</th>\n",
       "      <th>Murmur</th>\n",
       "    </tr>\n",
       "  </thead>\n",
       "  <tbody>\n",
       "    <tr>\n",
       "      <th>0</th>\n",
       "      <td>0</td>\n",
       "      <td>95.0</td>\n",
       "      <td>15.6</td>\n",
       "      <td>0</td>\n",
       "      <td>0</td>\n",
       "      <td>1</td>\n",
       "      <td>0</td>\n",
       "      <td>0</td>\n",
       "      <td>1</td>\n",
       "    </tr>\n",
       "    <tr>\n",
       "      <th>1</th>\n",
       "      <td>1</td>\n",
       "      <td>62.0</td>\n",
       "      <td>6.7</td>\n",
       "      <td>0</td>\n",
       "      <td>0</td>\n",
       "      <td>1</td>\n",
       "      <td>0</td>\n",
       "      <td>0</td>\n",
       "      <td>0</td>\n",
       "    </tr>\n",
       "    <tr>\n",
       "      <th>2</th>\n",
       "      <td>0</td>\n",
       "      <td>90.0</td>\n",
       "      <td>13.0</td>\n",
       "      <td>0</td>\n",
       "      <td>0</td>\n",
       "      <td>1</td>\n",
       "      <td>0</td>\n",
       "      <td>0</td>\n",
       "      <td>0</td>\n",
       "    </tr>\n",
       "    <tr>\n",
       "      <th>3</th>\n",
       "      <td>0</td>\n",
       "      <td>81.0</td>\n",
       "      <td>13.1</td>\n",
       "      <td>0</td>\n",
       "      <td>0</td>\n",
       "      <td>1</td>\n",
       "      <td>0</td>\n",
       "      <td>0</td>\n",
       "      <td>0</td>\n",
       "    </tr>\n",
       "    <tr>\n",
       "      <th>4</th>\n",
       "      <td>0</td>\n",
       "      <td>119.0</td>\n",
       "      <td>25.2</td>\n",
       "      <td>0</td>\n",
       "      <td>0</td>\n",
       "      <td>1</td>\n",
       "      <td>0</td>\n",
       "      <td>0</td>\n",
       "      <td>0</td>\n",
       "    </tr>\n",
       "  </tbody>\n",
       "</table>\n",
       "</div>"
      ],
      "text/plain": [
       "   Sex  Height  Weight  Pregnancy status  Age_Adolescent  Age_Child  \\\n",
       "0    0    95.0    15.6                 0               0          1   \n",
       "1    1    62.0     6.7                 0               0          1   \n",
       "2    0    90.0    13.0                 0               0          1   \n",
       "3    0    81.0    13.1                 0               0          1   \n",
       "4    0   119.0    25.2                 0               0          1   \n",
       "\n",
       "   Age_Infant  Age_Neonate  Murmur  \n",
       "0           0            0       1  \n",
       "1           0            0       0  \n",
       "2           0            0       0  \n",
       "3           0            0       0  \n",
       "4           0            0       0  "
      ]
     },
     "execution_count": 6,
     "metadata": {},
     "output_type": "execute_result"
    }
   ],
   "source": [
    "# validation set\n",
    "valid = pd.read_csv('val_preprocessed.csv')\n",
    "valid.head()"
   ]
  },
  {
   "cell_type": "code",
   "execution_count": 7,
   "id": "6682fc21",
   "metadata": {},
   "outputs": [],
   "source": [
    "X_valid = valid.drop(['Murmur'], axis=1)\n",
    "y_valid = valid['Murmur']"
   ]
  },
  {
   "cell_type": "code",
   "execution_count": 8,
   "id": "748b1373",
   "metadata": {},
   "outputs": [
    {
     "data": {
      "text/html": [
       "<div>\n",
       "<style scoped>\n",
       "    .dataframe tbody tr th:only-of-type {\n",
       "        vertical-align: middle;\n",
       "    }\n",
       "\n",
       "    .dataframe tbody tr th {\n",
       "        vertical-align: top;\n",
       "    }\n",
       "\n",
       "    .dataframe thead th {\n",
       "        text-align: right;\n",
       "    }\n",
       "</style>\n",
       "<table border=\"1\" class=\"dataframe\">\n",
       "  <thead>\n",
       "    <tr style=\"text-align: right;\">\n",
       "      <th></th>\n",
       "      <th>Sex</th>\n",
       "      <th>Height</th>\n",
       "      <th>Weight</th>\n",
       "      <th>Pregnancy status</th>\n",
       "      <th>Age_Adolescent</th>\n",
       "      <th>Age_Child</th>\n",
       "      <th>Age_Infant</th>\n",
       "      <th>Age_Neonate</th>\n",
       "      <th>Murmur</th>\n",
       "    </tr>\n",
       "  </thead>\n",
       "  <tbody>\n",
       "    <tr>\n",
       "      <th>0</th>\n",
       "      <td>0</td>\n",
       "      <td>88.0</td>\n",
       "      <td>12.2</td>\n",
       "      <td>0</td>\n",
       "      <td>0</td>\n",
       "      <td>1</td>\n",
       "      <td>0</td>\n",
       "      <td>0</td>\n",
       "      <td>0</td>\n",
       "    </tr>\n",
       "    <tr>\n",
       "      <th>1</th>\n",
       "      <td>1</td>\n",
       "      <td>111.0</td>\n",
       "      <td>19.2</td>\n",
       "      <td>0</td>\n",
       "      <td>0</td>\n",
       "      <td>1</td>\n",
       "      <td>0</td>\n",
       "      <td>0</td>\n",
       "      <td>1</td>\n",
       "    </tr>\n",
       "    <tr>\n",
       "      <th>2</th>\n",
       "      <td>0</td>\n",
       "      <td>137.0</td>\n",
       "      <td>37.0</td>\n",
       "      <td>0</td>\n",
       "      <td>0</td>\n",
       "      <td>1</td>\n",
       "      <td>0</td>\n",
       "      <td>0</td>\n",
       "      <td>0</td>\n",
       "    </tr>\n",
       "    <tr>\n",
       "      <th>3</th>\n",
       "      <td>1</td>\n",
       "      <td>97.0</td>\n",
       "      <td>14.7</td>\n",
       "      <td>0</td>\n",
       "      <td>0</td>\n",
       "      <td>1</td>\n",
       "      <td>0</td>\n",
       "      <td>0</td>\n",
       "      <td>1</td>\n",
       "    </tr>\n",
       "    <tr>\n",
       "      <th>4</th>\n",
       "      <td>1</td>\n",
       "      <td>79.0</td>\n",
       "      <td>11.3</td>\n",
       "      <td>0</td>\n",
       "      <td>0</td>\n",
       "      <td>1</td>\n",
       "      <td>0</td>\n",
       "      <td>0</td>\n",
       "      <td>1</td>\n",
       "    </tr>\n",
       "  </tbody>\n",
       "</table>\n",
       "</div>"
      ],
      "text/plain": [
       "   Sex  Height  Weight  Pregnancy status  Age_Adolescent  Age_Child  \\\n",
       "0    0    88.0    12.2                 0               0          1   \n",
       "1    1   111.0    19.2                 0               0          1   \n",
       "2    0   137.0    37.0                 0               0          1   \n",
       "3    1    97.0    14.7                 0               0          1   \n",
       "4    1    79.0    11.3                 0               0          1   \n",
       "\n",
       "   Age_Infant  Age_Neonate  Murmur  \n",
       "0           0            0       0  \n",
       "1           0            0       1  \n",
       "2           0            0       0  \n",
       "3           0            0       1  \n",
       "4           0            0       1  "
      ]
     },
     "execution_count": 8,
     "metadata": {},
     "output_type": "execute_result"
    }
   ],
   "source": [
    "# test set\n",
    "test = pd.read_csv('test_preprocessed.csv')\n",
    "test.head()"
   ]
  },
  {
   "cell_type": "code",
   "execution_count": 9,
   "id": "f2f89c68",
   "metadata": {},
   "outputs": [],
   "source": [
    "X_test = test.drop(['Murmur'], axis=1)\n",
    "y_test = test['Murmur']"
   ]
  },
  {
   "cell_type": "code",
   "execution_count": 10,
   "id": "70a03d6f",
   "metadata": {},
   "outputs": [
    {
     "data": {
      "image/png": "[encoded data removed]",
      "text/plain": [
       "<Figure size 600x400 with 1 Axes>"
      ]
     },
     "metadata": {},
     "output_type": "display_data"
    }
   ],
   "source": [
    "import matplotlib.pyplot as plt\n",
    "\n",
    "train_data = [X_train.shape[0], y_train.shape[0]]\n",
    "valid_data = [X_valid.shape[0], y_valid.shape[0]]\n",
    "test_data = [X_test.shape[0], y_test.shape[0]]\n",
    "\n",
    "labels = ['X_train', 'y_train', 'X_valid', 'y_valid', 'X_test', 'y_test']\n",
    "\n",
    "# Plotting\n",
    "plt.figure(figsize=(6, 4))\n",
    "plt.bar(labels, train_data + valid_data + test_data, color=['blue', 'blue', 'orange', 'orange', 'green', 'green'])\n",
    "plt.xticks(rotation=45)\n",
    "plt.grid(axis='y', linestyle='--', alpha=0.3)\n",
    "plt.tight_layout()\n",
    "plt.show()"
   ]
  },
  {
   "cell_type": "markdown",
   "id": "a328fd8b",
   "metadata": {},
   "source": [
    "### Data Preprocessing\n",
    "#### SMOTE "
   ]
  },
  {
   "cell_type": "code",
   "execution_count": 11,
   "id": "2e589e27",
   "metadata": {},
   "outputs": [],
   "source": [
    "from imblearn.over_sampling import SMOTE\n",
    "\n",
    "X_resampled, y_resampled = SMOTE().fit_resample(X_train, y_train)"
   ]
  },
  {
   "cell_type": "code",
   "execution_count": 12,
   "id": "16ccf55d",
   "metadata": {},
   "outputs": [
    {
     "data": {
      "text/plain": [
       "0    695\n",
       "1    695\n",
       "Name: Murmur, dtype: int64"
      ]
     },
     "execution_count": 12,
     "metadata": {},
     "output_type": "execute_result"
    }
   ],
   "source": [
    "y_resampled.value_counts()"
   ]
  },
  {
   "cell_type": "markdown",
   "id": "271be9ea",
   "metadata": {},
   "source": [
    "#### Near Miss"
   ]
  },
  {
   "cell_type": "code",
   "execution_count": 13,
   "id": "902be3ae",
   "metadata": {},
   "outputs": [],
   "source": [
    "from imblearn.under_sampling import NearMiss\n",
    "\n",
    "X_resampled, y_resampled = NearMiss().fit_resample(X_resampled, y_resampled)"
   ]
  },
  {
   "cell_type": "code",
   "execution_count": 14,
   "id": "d0f23377",
   "metadata": {},
   "outputs": [
    {
     "data": {
      "text/plain": [
       "0    695\n",
       "1    695\n",
       "Name: Murmur, dtype: int64"
      ]
     },
     "execution_count": 14,
     "metadata": {},
     "output_type": "execute_result"
    }
   ],
   "source": [
    "y_resampled.value_counts()"
   ]
  },
  {
   "cell_type": "markdown",
   "id": "ba27a35d",
   "metadata": {},
   "source": [
    "#### ADASYN"
   ]
  },
  {
   "cell_type": "code",
   "execution_count": 15,
   "id": "4eeeabd9",
   "metadata": {},
   "outputs": [],
   "source": [
    "from imblearn.over_sampling import ADASYN\n",
    "\n",
    "X_resampled, y_resampled = ADASYN().fit_resample(X_resampled, y_resampled)"
   ]
  },
  {
   "cell_type": "code",
   "execution_count": 16,
   "id": "6c302410",
   "metadata": {},
   "outputs": [
    {
     "data": {
      "text/html": [
       "<div>\n",
       "<style scoped>\n",
       "    .dataframe tbody tr th:only-of-type {\n",
       "        vertical-align: middle;\n",
       "    }\n",
       "\n",
       "    .dataframe tbody tr th {\n",
       "        vertical-align: top;\n",
       "    }\n",
       "\n",
       "    .dataframe thead th {\n",
       "        text-align: right;\n",
       "    }\n",
       "</style>\n",
       "<table border=\"1\" class=\"dataframe\">\n",
       "  <thead>\n",
       "    <tr style=\"text-align: right;\">\n",
       "      <th></th>\n",
       "      <th>Sex</th>\n",
       "      <th>Height</th>\n",
       "      <th>Weight</th>\n",
       "      <th>Pregnancy status</th>\n",
       "      <th>Age_Adolescent</th>\n",
       "      <th>Age_Child</th>\n",
       "      <th>Age_Infant</th>\n",
       "      <th>Age_Neonate</th>\n",
       "    </tr>\n",
       "  </thead>\n",
       "  <tbody>\n",
       "    <tr>\n",
       "      <th>0</th>\n",
       "      <td>1</td>\n",
       "      <td>98.000000</td>\n",
       "      <td>15.900000</td>\n",
       "      <td>0</td>\n",
       "      <td>0</td>\n",
       "      <td>1</td>\n",
       "      <td>0</td>\n",
       "      <td>0</td>\n",
       "    </tr>\n",
       "    <tr>\n",
       "      <th>1</th>\n",
       "      <td>0</td>\n",
       "      <td>115.000000</td>\n",
       "      <td>21.300000</td>\n",
       "      <td>0</td>\n",
       "      <td>0</td>\n",
       "      <td>1</td>\n",
       "      <td>0</td>\n",
       "      <td>0</td>\n",
       "    </tr>\n",
       "    <tr>\n",
       "      <th>2</th>\n",
       "      <td>1</td>\n",
       "      <td>92.000000</td>\n",
       "      <td>14.000000</td>\n",
       "      <td>0</td>\n",
       "      <td>0</td>\n",
       "      <td>1</td>\n",
       "      <td>0</td>\n",
       "      <td>0</td>\n",
       "    </tr>\n",
       "    <tr>\n",
       "      <th>3</th>\n",
       "      <td>1</td>\n",
       "      <td>98.000000</td>\n",
       "      <td>17.700000</td>\n",
       "      <td>0</td>\n",
       "      <td>0</td>\n",
       "      <td>1</td>\n",
       "      <td>0</td>\n",
       "      <td>0</td>\n",
       "    </tr>\n",
       "    <tr>\n",
       "      <th>4</th>\n",
       "      <td>1</td>\n",
       "      <td>90.000000</td>\n",
       "      <td>14.400000</td>\n",
       "      <td>0</td>\n",
       "      <td>0</td>\n",
       "      <td>1</td>\n",
       "      <td>0</td>\n",
       "      <td>0</td>\n",
       "    </tr>\n",
       "    <tr>\n",
       "      <th>...</th>\n",
       "      <td>...</td>\n",
       "      <td>...</td>\n",
       "      <td>...</td>\n",
       "      <td>...</td>\n",
       "      <td>...</td>\n",
       "      <td>...</td>\n",
       "      <td>...</td>\n",
       "      <td>...</td>\n",
       "    </tr>\n",
       "    <tr>\n",
       "      <th>1385</th>\n",
       "      <td>0</td>\n",
       "      <td>171.181978</td>\n",
       "      <td>99.479856</td>\n",
       "      <td>0</td>\n",
       "      <td>1</td>\n",
       "      <td>0</td>\n",
       "      <td>0</td>\n",
       "      <td>0</td>\n",
       "    </tr>\n",
       "    <tr>\n",
       "      <th>1386</th>\n",
       "      <td>0</td>\n",
       "      <td>172.900961</td>\n",
       "      <td>91.695802</td>\n",
       "      <td>0</td>\n",
       "      <td>1</td>\n",
       "      <td>0</td>\n",
       "      <td>0</td>\n",
       "      <td>0</td>\n",
       "    </tr>\n",
       "    <tr>\n",
       "      <th>1387</th>\n",
       "      <td>0</td>\n",
       "      <td>174.000000</td>\n",
       "      <td>108.600000</td>\n",
       "      <td>0</td>\n",
       "      <td>1</td>\n",
       "      <td>0</td>\n",
       "      <td>0</td>\n",
       "      <td>0</td>\n",
       "    </tr>\n",
       "    <tr>\n",
       "      <th>1388</th>\n",
       "      <td>0</td>\n",
       "      <td>178.247820</td>\n",
       "      <td>104.847759</td>\n",
       "      <td>0</td>\n",
       "      <td>1</td>\n",
       "      <td>0</td>\n",
       "      <td>0</td>\n",
       "      <td>0</td>\n",
       "    </tr>\n",
       "    <tr>\n",
       "      <th>1389</th>\n",
       "      <td>0</td>\n",
       "      <td>180.000000</td>\n",
       "      <td>103.300000</td>\n",
       "      <td>0</td>\n",
       "      <td>1</td>\n",
       "      <td>0</td>\n",
       "      <td>0</td>\n",
       "      <td>0</td>\n",
       "    </tr>\n",
       "  </tbody>\n",
       "</table>\n",
       "<p>1390 rows × 8 columns</p>\n",
       "</div>"
      ],
      "text/plain": [
       "      Sex      Height      Weight  Pregnancy status  Age_Adolescent  \\\n",
       "0       1   98.000000   15.900000                 0               0   \n",
       "1       0  115.000000   21.300000                 0               0   \n",
       "2       1   92.000000   14.000000                 0               0   \n",
       "3       1   98.000000   17.700000                 0               0   \n",
       "4       1   90.000000   14.400000                 0               0   \n",
       "...   ...         ...         ...               ...             ...   \n",
       "1385    0  171.181978   99.479856                 0               1   \n",
       "1386    0  172.900961   91.695802                 0               1   \n",
       "1387    0  174.000000  108.600000                 0               1   \n",
       "1388    0  178.247820  104.847759                 0               1   \n",
       "1389    0  180.000000  103.300000                 0               1   \n",
       "\n",
       "      Age_Child  Age_Infant  Age_Neonate  \n",
       "0             1           0            0  \n",
       "1             1           0            0  \n",
       "2             1           0            0  \n",
       "3             1           0            0  \n",
       "4             1           0            0  \n",
       "...         ...         ...          ...  \n",
       "1385          0           0            0  \n",
       "1386          0           0            0  \n",
       "1387          0           0            0  \n",
       "1388          0           0            0  \n",
       "1389          0           0            0  \n",
       "\n",
       "[1390 rows x 8 columns]"
      ]
     },
     "execution_count": 16,
     "metadata": {},
     "output_type": "execute_result"
    }
   ],
   "source": [
    "X_resampled"
   ]
  },
  {
   "cell_type": "code",
   "execution_count": 17,
   "id": "d12bb345",
   "metadata": {},
   "outputs": [
    {
     "data": {
      "text/plain": [
       "0    695\n",
       "1    695\n",
       "Name: Murmur, dtype: int64"
      ]
     },
     "execution_count": 17,
     "metadata": {},
     "output_type": "execute_result"
    }
   ],
   "source": [
    "y_resampled.value_counts()"
   ]
  },
  {
   "cell_type": "code",
   "execution_count": 18,
   "id": "723de561",
   "metadata": {},
   "outputs": [],
   "source": [
    "X_train = X_resampled.copy()\n",
    "y_train = y_resampled.copy()"
   ]
  },
  {
   "cell_type": "markdown",
   "id": "68a0d510",
   "metadata": {},
   "source": [
    "### Models\n",
    "#### SVM"
   ]
  },
  {
   "cell_type": "code",
   "execution_count": 19,
   "id": "e5e0d203",
   "metadata": {},
   "outputs": [
    {
     "name": "stdout",
     "output_type": "stream",
     "text": [
      "Best Parameters: {'C': 77.22703466859457, 'gamma': 0.7504465173409036}\n",
      "Best Score: 0.6057553956834532\n"
     ]
    }
   ],
   "source": [
    "from sklearn.model_selection import RandomizedSearchCV\n",
    "from sklearn.svm import SVC\n",
    "from scipy.stats import uniform\n",
    "\n",
    "\n",
    "param_dist = {'C': uniform(0.1, 100),\n",
    "              'gamma': uniform(0.01, 10)}\n",
    "\n",
    "svm = SVC(kernel='rbf')\n",
    "\n",
    "random_search = RandomizedSearchCV(svm, param_distributions=param_dist, n_iter=100, cv=5, random_state=42)\n",
    "random_search.fit(X_train, y_train)\n",
    "\n",
    "print(\"Best Parameters:\", random_search.best_params_)\n",
    "print(\"Best Score:\", random_search.best_score_)"
   ]
  },
  {
   "cell_type": "code",
   "execution_count": 20,
   "id": "1398959b",
   "metadata": {},
   "outputs": [
    {
     "data": {
      "text/html": [
       "<style>#sk-container-id-1 {color: black;}#sk-container-id-1 pre{padding: 0;}#sk-container-id-1 div.sk-toggleable {background-color: white;}#sk-container-id-1 label.sk-toggleable__label {cursor: pointer;display: block;width: 100%;margin-bottom: 0;padding: 0.3em;box-sizing: border-box;text-align: center;}#sk-container-id-1 label.sk-toggleable__label-arrow:before {content: \"▸\";float: left;margin-right: 0.25em;color: #696969;}#sk-container-id-1 label.sk-toggleable__label-arrow:hover:before {color: black;}#sk-container-id-1 div.sk-estimator:hover label.sk-toggleable__label-arrow:before {color: black;}#sk-container-id-1 div.sk-toggleable__content {max-height: 0;max-width: 0;overflow: hidden;text-align: left;background-color: #f0f8ff;}#sk-container-id-1 div.sk-toggleable__content pre {margin: 0.2em;color: black;border-radius: 0.25em;background-color: #f0f8ff;}#sk-container-id-1 input.sk-toggleable__control:checked~div.sk-toggleable__content {max-height: 200px;max-width: 100%;overflow: auto;}#sk-container-id-1 input.sk-toggleable__control:checked~label.sk-toggleable__label-arrow:before {content: \"▾\";}#sk-container-id-1 div.sk-estimator input.sk-toggleable__control:checked~label.sk-toggleable__label {background-color: #d4ebff;}#sk-container-id-1 div.sk-label input.sk-toggleable__control:checked~label.sk-toggleable__label {background-color: #d4ebff;}#sk-container-id-1 input.sk-hidden--visually {border: 0;clip: rect(1px 1px 1px 1px);clip: rect(1px, 1px, 1px, 1px);height: 1px;margin: -1px;overflow: hidden;padding: 0;position: absolute;width: 1px;}#sk-container-id-1 div.sk-estimator {font-family: monospace;background-color: #f0f8ff;border: 1px dotted black;border-radius: 0.25em;box-sizing: border-box;margin-bottom: 0.5em;}#sk-container-id-1 div.sk-estimator:hover {background-color: #d4ebff;}#sk-container-id-1 div.sk-parallel-item::after {content: \"\";width: 100%;border-bottom: 1px solid gray;flex-grow: 1;}#sk-container-id-1 div.sk-label:hover label.sk-toggleable__label {background-color: #d4ebff;}#sk-container-id-1 div.sk-serial::before {content: \"\";position: absolute;border-left: 1px solid gray;box-sizing: border-box;top: 0;bottom: 0;left: 50%;z-index: 0;}#sk-container-id-1 div.sk-serial {display: flex;flex-direction: column;align-items: center;background-color: white;padding-right: 0.2em;padding-left: 0.2em;position: relative;}#sk-container-id-1 div.sk-item {position: relative;z-index: 1;}#sk-container-id-1 div.sk-parallel {display: flex;align-items: stretch;justify-content: center;background-color: white;position: relative;}#sk-container-id-1 div.sk-item::before, #sk-container-id-1 div.sk-parallel-item::before {content: \"\";position: absolute;border-left: 1px solid gray;box-sizing: border-box;top: 0;bottom: 0;left: 50%;z-index: -1;}#sk-container-id-1 div.sk-parallel-item {display: flex;flex-direction: column;z-index: 1;position: relative;background-color: white;}#sk-container-id-1 div.sk-parallel-item:first-child::after {align-self: flex-end;width: 50%;}#sk-container-id-1 div.sk-parallel-item:last-child::after {align-self: flex-start;width: 50%;}#sk-container-id-1 div.sk-parallel-item:only-child::after {width: 0;}#sk-container-id-1 div.sk-dashed-wrapped {border: 1px dashed gray;margin: 0 0.4em 0.5em 0.4em;box-sizing: border-box;padding-bottom: 0.4em;background-color: white;}#sk-container-id-1 div.sk-label label {font-family: monospace;font-weight: bold;display: inline-block;line-height: 1.2em;}#sk-container-id-1 div.sk-label-container {text-align: center;}#sk-container-id-1 div.sk-container {/* jupyter's `normalize.less` sets `[hidden] { display: none; }` but bootstrap.min.css set `[hidden] { display: none !important; }` so we also need the `!important` here to be able to override the default hidden behavior on the sphinx rendered scikit-learn.org. See: https://github.com/scikit-learn/scikit-learn/issues/21755 */display: inline-block !important;position: relative;}#sk-container-id-1 div.sk-text-repr-fallback {display: none;}</style><div id=\"sk-container-id-1\" class=\"sk-top-container\"><div class=\"sk-text-repr-fallback\"><pre>SVC(C=77.22703466859457, gamma=0.7504465173409036)</pre><b>In a Jupyter environment, please rerun this cell to show the HTML representation or trust the notebook. <br />On GitHub, the HTML representation is unable to render, please try loading this page with nbviewer.org.</b></div><div class=\"sk-container\" hidden><div class=\"sk-item\"><div class=\"sk-estimator sk-toggleable\"><input class=\"sk-toggleable__control sk-hidden--visually\" id=\"sk-estimator-id-1\" type=\"checkbox\" checked><label for=\"sk-estimator-id-1\" class=\"sk-toggleable__label sk-toggleable__label-arrow\">SVC</label><div class=\"sk-toggleable__content\"><pre>SVC(C=77.22703466859457, gamma=0.7504465173409036)</pre></div></div></div></div></div>"
      ],
      "text/plain": [
       "SVC(C=77.22703466859457, gamma=0.7504465173409036)"
      ]
     },
     "execution_count": 20,
     "metadata": {},
     "output_type": "execute_result"
    }
   ],
   "source": [
    "# Extract the best parameters\n",
    "best_params = random_search.best_params_\n",
    "# Create SVM classifier with the best parameters\n",
    "best_svc_model = SVC(kernel='rbf', C=best_params['C'], gamma=best_params['gamma'])\n",
    "best_svc_model.fit(X_train, y_train)"
   ]
  },
  {
   "cell_type": "code",
   "execution_count": 21,
   "id": "922e05d2",
   "metadata": {},
   "outputs": [],
   "source": [
    "from sklearn.metrics import classification_report\n",
    "\n",
    "def print_classification_report(X_test, y_test, model):\n",
    "    y_pred = model.predict(X_test)\n",
    "    cr = classification_report(y_test, y_pred)\n",
    "    print(cr)"
   ]
  },
  {
   "cell_type": "code",
   "execution_count": 22,
   "id": "ec39e062",
   "metadata": {},
   "outputs": [
    {
     "name": "stdout",
     "output_type": "stream",
     "text": [
      "              precision    recall  f1-score   support\n",
      "\n",
      "           0       0.79      0.78      0.79       343\n",
      "           1       0.27      0.28      0.28        99\n",
      "\n",
      "    accuracy                           0.67       442\n",
      "   macro avg       0.53      0.53      0.53       442\n",
      "weighted avg       0.68      0.67      0.67       442\n",
      "\n"
     ]
    }
   ],
   "source": [
    "print_classification_report(X_test, y_test, best_svc_model)"
   ]
  },
  {
   "cell_type": "code",
   "execution_count": 23,
   "id": "ad13ac8e",
   "metadata": {},
   "outputs": [],
   "source": [
    "from sklearn.metrics import confusion_matrix, ConfusionMatrixDisplay\n",
    "\n",
    "def show_confusion_matrix(model, model_name):\n",
    "    predictions = model.predict(X_test)\n",
    "    cm = confusion_matrix(y_test, predictions, labels=model.classes_)\n",
    "    disp = ConfusionMatrixDisplay(confusion_matrix=cm, display_labels=model.classes_)\n",
    "    cmap = plt.cm.Greens\n",
    "    disp.plot(cmap=cmap)\n",
    "    plt.title(f\"Confusion Matrix of {model_name}\")\n",
    "    plt.show()"
   ]
  },
  {
   "cell_type": "code",
   "execution_count": 24,
   "id": "cfe0d878",
   "metadata": {},
   "outputs": [
    {
     "data": {
      "image/png": "[encoded data removed]",
      "text/plain": [
       "<Figure size 640x480 with 2 Axes>"
      ]
     },
     "metadata": {},
     "output_type": "display_data"
    }
   ],
   "source": [
    "show_confusion_matrix(best_svc_model, \"SVM\")"
   ]
  },
  {
   "cell_type": "markdown",
   "id": "4249131b",
   "metadata": {},
   "source": [
    "#### Decision Tree"
   ]
  },
  {
   "cell_type": "code",
   "execution_count": 25,
   "id": "50068db2",
   "metadata": {},
   "outputs": [
    {
     "name": "stdout",
     "output_type": "stream",
     "text": [
      "Best Parameters: {'criterion': 'entropy', 'max_depth': 11, 'min_samples_leaf': 5, 'min_samples_split': 4}\n",
      "Best Score: 0.6028776978417267\n"
     ]
    }
   ],
   "source": [
    "from sklearn.tree import DecisionTreeClassifier\n",
    "from scipy.stats import randint\n",
    "\n",
    "param_dist = {'max_depth': randint(5, 20),\n",
    "              'min_samples_split': randint(2, 20),\n",
    "              'min_samples_leaf': randint(1, 20),\n",
    "              'criterion': ['gini', 'entropy']}\n",
    "\n",
    "\n",
    "dt_classifier = DecisionTreeClassifier()\n",
    "\n",
    "\n",
    "random_search_dt = RandomizedSearchCV(dt_classifier, param_distributions=param_dist, n_iter=100, cv=5, random_state=42)\n",
    "random_search_dt.fit(X_train, y_train)\n",
    "\n",
    "print(\"Best Parameters:\", random_search_dt.best_params_)\n",
    "print(\"Best Score:\", random_search_dt.best_score_)"
   ]
  },
  {
   "cell_type": "code",
   "execution_count": 26,
   "id": "bbef14a6",
   "metadata": {},
   "outputs": [],
   "source": [
    "# Extract the best Decision Tree model\n",
    "best_dt_model = random_search_dt.best_estimator_"
   ]
  },
  {
   "cell_type": "code",
   "execution_count": 27,
   "id": "0a1498b4",
   "metadata": {},
   "outputs": [
    {
     "name": "stdout",
     "output_type": "stream",
     "text": [
      "              precision    recall  f1-score   support\n",
      "\n",
      "           0       0.79      0.62      0.69       343\n",
      "           1       0.24      0.42      0.31        99\n",
      "\n",
      "    accuracy                           0.58       442\n",
      "   macro avg       0.52      0.52      0.50       442\n",
      "weighted avg       0.67      0.58      0.61       442\n",
      "\n"
     ]
    }
   ],
   "source": [
    "print_classification_report(X_test, y_test, best_dt_model)"
   ]
  },
  {
   "cell_type": "code",
   "execution_count": 28,
   "id": "7e575caa",
   "metadata": {},
   "outputs": [
    {
     "data": {
      "image/png": "[encoded data removed]",
      "text/plain": [
       "<Figure size 640x480 with 2 Axes>"
      ]
     },
     "metadata": {},
     "output_type": "display_data"
    }
   ],
   "source": [
    "show_confusion_matrix(best_dt_model, \"Decision Tree\")"
   ]
  },
  {
   "cell_type": "markdown",
   "id": "5ac630d7",
   "metadata": {},
   "source": [
    "#### KNN"
   ]
  },
  {
   "cell_type": "code",
   "execution_count": 29,
   "id": "d33214d4",
   "metadata": {},
   "outputs": [
    {
     "name": "stdout",
     "output_type": "stream",
     "text": [
      "Best Parameters: {'algorithm': 'brute', 'n_neighbors': 11, 'p': 1, 'weights': 'distance'}\n",
      "Best Score: 0.576978417266187\n"
     ]
    }
   ],
   "source": [
    "from sklearn.neighbors import KNeighborsClassifier\n",
    "\n",
    "param_dist = {'n_neighbors': randint(10, 50),\n",
    "              'weights': ['uniform', 'distance'],\n",
    "              'algorithm': ['auto', 'ball_tree', 'kd_tree', 'brute'],\n",
    "              'p': [1, 2]}\n",
    "\n",
    "knn_classifier = KNeighborsClassifier()\n",
    "\n",
    "random_search_knn = RandomizedSearchCV(knn_classifier, param_distributions=param_dist, n_iter=100, cv=5, random_state=42)\n",
    "random_search_knn.fit(X_train, y_train)\n",
    "\n",
    "print(\"Best Parameters:\", random_search_knn.best_params_)\n",
    "print(\"Best Score:\", random_search_knn.best_score_)"
   ]
  },
  {
   "cell_type": "code",
   "execution_count": 30,
   "id": "1a5b5689",
   "metadata": {},
   "outputs": [],
   "source": [
    "# Extract the best KNN model\n",
    "best_knn_model = random_search_knn.best_estimator_"
   ]
  },
  {
   "cell_type": "code",
   "execution_count": 31,
   "id": "2e451ac4",
   "metadata": {},
   "outputs": [
    {
     "name": "stdout",
     "output_type": "stream",
     "text": [
      "              precision    recall  f1-score   support\n",
      "\n",
      "           0       0.80      0.60      0.69       343\n",
      "           1       0.26      0.49      0.34        99\n",
      "\n",
      "    accuracy                           0.57       442\n",
      "   macro avg       0.53      0.55      0.51       442\n",
      "weighted avg       0.68      0.57      0.61       442\n",
      "\n"
     ]
    }
   ],
   "source": [
    "print_classification_report(X_test, y_test, best_knn_model)"
   ]
  },
  {
   "cell_type": "code",
   "execution_count": 32,
   "id": "5a9c5795",
   "metadata": {},
   "outputs": [
    {
     "data": {
      "image/png": "[encoded data removed]",
      "text/plain": [
       "<Figure size 640x480 with 2 Axes>"
      ]
     },
     "metadata": {},
     "output_type": "display_data"
    }
   ],
   "source": [
    "show_confusion_matrix(best_knn_model, \"KNN\")"
   ]
  },
  {
   "cell_type": "markdown",
   "id": "1d581c12",
   "metadata": {},
   "source": [
    "#### MLP"
   ]
  },
  {
   "cell_type": "code",
   "execution_count": 33,
   "id": "f6989fcd",
   "metadata": {},
   "outputs": [
    {
     "name": "stdout",
     "output_type": "stream",
     "text": [
      "Epoch 1/35\n",
      "44/44 [==============================] - 1s 8ms/step - loss: 0.9113 - accuracy: 0.5108 - val_loss: 0.9410 - val_accuracy: 0.2030\n",
      "Epoch 2/35\n",
      "44/44 [==============================] - 0s 3ms/step - loss: 0.7534 - accuracy: 0.5144 - val_loss: 0.5786 - val_accuracy: 0.7444\n",
      "Epoch 3/35\n",
      "44/44 [==============================] - 0s 3ms/step - loss: 0.6915 - accuracy: 0.5374 - val_loss: 0.5352 - val_accuracy: 0.7368\n",
      "Epoch 4/35\n",
      "44/44 [==============================] - 0s 3ms/step - loss: 0.7028 - accuracy: 0.5482 - val_loss: 0.6564 - val_accuracy: 0.5188\n",
      "Epoch 5/35\n",
      "44/44 [==============================] - 0s 3ms/step - loss: 0.6996 - accuracy: 0.5489 - val_loss: 0.4864 - val_accuracy: 0.7970\n",
      "Epoch 6/35\n",
      "44/44 [==============================] - 0s 3ms/step - loss: 0.6954 - accuracy: 0.5460 - val_loss: 0.6357 - val_accuracy: 0.6015\n",
      "Epoch 7/35\n",
      "44/44 [==============================] - 0s 3ms/step - loss: 0.6760 - accuracy: 0.5669 - val_loss: 0.5444 - val_accuracy: 0.7744\n",
      "Epoch 8/35\n",
      "44/44 [==============================] - 0s 3ms/step - loss: 0.6781 - accuracy: 0.5712 - val_loss: 0.5213 - val_accuracy: 0.8120\n",
      "Epoch 9/35\n",
      "44/44 [==============================] - 0s 3ms/step - loss: 0.6760 - accuracy: 0.5719 - val_loss: 0.6581 - val_accuracy: 0.5113\n",
      "Epoch 10/35\n",
      "44/44 [==============================] - 0s 3ms/step - loss: 0.6770 - accuracy: 0.5791 - val_loss: 0.6664 - val_accuracy: 0.5038\n",
      "Epoch 11/35\n",
      "44/44 [==============================] - 0s 3ms/step - loss: 0.6834 - accuracy: 0.5669 - val_loss: 0.7071 - val_accuracy: 0.4436\n",
      "Epoch 12/35\n",
      "44/44 [==============================] - 0s 3ms/step - loss: 0.6891 - accuracy: 0.5453 - val_loss: 0.4975 - val_accuracy: 0.8195\n",
      "Epoch 13/35\n",
      "44/44 [==============================] - 0s 3ms/step - loss: 0.7013 - accuracy: 0.5532 - val_loss: 0.5137 - val_accuracy: 0.7895\n",
      "Epoch 14/35\n",
      "44/44 [==============================] - 0s 3ms/step - loss: 0.6907 - accuracy: 0.5417 - val_loss: 0.5392 - val_accuracy: 0.7744\n",
      "Epoch 15/35\n",
      "44/44 [==============================] - 0s 3ms/step - loss: 0.6860 - accuracy: 0.5727 - val_loss: 0.5544 - val_accuracy: 0.7744\n",
      "Epoch 16/35\n",
      "44/44 [==============================] - 0s 3ms/step - loss: 0.6707 - accuracy: 0.5669 - val_loss: 0.5538 - val_accuracy: 0.7669\n",
      "Epoch 17/35\n",
      "44/44 [==============================] - 0s 3ms/step - loss: 0.6710 - accuracy: 0.5683 - val_loss: 0.6524 - val_accuracy: 0.5489\n",
      "Epoch 18/35\n",
      "44/44 [==============================] - 0s 3ms/step - loss: 0.6680 - accuracy: 0.5863 - val_loss: 0.8126 - val_accuracy: 0.3459\n",
      "Epoch 19/35\n",
      "44/44 [==============================] - 0s 3ms/step - loss: 0.6645 - accuracy: 0.5899 - val_loss: 0.5316 - val_accuracy: 0.7669\n",
      "Epoch 20/35\n",
      "44/44 [==============================] - 0s 3ms/step - loss: 0.6839 - accuracy: 0.5410 - val_loss: 0.6139 - val_accuracy: 0.6541\n",
      "Epoch 21/35\n",
      "44/44 [==============================] - 0s 3ms/step - loss: 0.6938 - accuracy: 0.5568 - val_loss: 0.4716 - val_accuracy: 0.8271\n",
      "Epoch 22/35\n",
      "44/44 [==============================] - 0s 3ms/step - loss: 0.6691 - accuracy: 0.5763 - val_loss: 0.5538 - val_accuracy: 0.7293\n",
      "Epoch 23/35\n",
      "44/44 [==============================] - 0s 3ms/step - loss: 0.6586 - accuracy: 0.5914 - val_loss: 0.5227 - val_accuracy: 0.7820\n",
      "Epoch 24/35\n",
      "44/44 [==============================] - 0s 3ms/step - loss: 0.6594 - accuracy: 0.6000 - val_loss: 0.5636 - val_accuracy: 0.7368\n",
      "Epoch 25/35\n",
      "44/44 [==============================] - 0s 3ms/step - loss: 0.6622 - accuracy: 0.5950 - val_loss: 0.6561 - val_accuracy: 0.5639\n",
      "Epoch 26/35\n",
      "44/44 [==============================] - 0s 3ms/step - loss: 0.6675 - accuracy: 0.5849 - val_loss: 0.4775 - val_accuracy: 0.8195\n",
      "Epoch 27/35\n",
      "44/44 [==============================] - 0s 3ms/step - loss: 0.6673 - accuracy: 0.6043 - val_loss: 0.7128 - val_accuracy: 0.4511\n",
      "Epoch 28/35\n",
      "44/44 [==============================] - 0s 3ms/step - loss: 0.6778 - accuracy: 0.5691 - val_loss: 0.7039 - val_accuracy: 0.4586\n",
      "Epoch 29/35\n",
      "44/44 [==============================] - 0s 3ms/step - loss: 0.6556 - accuracy: 0.5986 - val_loss: 0.5328 - val_accuracy: 0.7820\n",
      "Epoch 30/35\n",
      "44/44 [==============================] - 0s 3ms/step - loss: 0.6828 - accuracy: 0.5698 - val_loss: 0.6774 - val_accuracy: 0.5188\n",
      "Epoch 31/35\n",
      "44/44 [==============================] - 0s 3ms/step - loss: 0.6755 - accuracy: 0.5827 - val_loss: 1.0416 - val_accuracy: 0.2180\n",
      "Epoch 32/35\n",
      "44/44 [==============================] - 0s 3ms/step - loss: 0.6714 - accuracy: 0.5935 - val_loss: 0.6857 - val_accuracy: 0.4887\n",
      "Epoch 33/35\n",
      "44/44 [==============================] - 0s 3ms/step - loss: 0.6730 - accuracy: 0.5791 - val_loss: 0.4557 - val_accuracy: 0.8045\n",
      "Epoch 34/35\n",
      "44/44 [==============================] - 0s 3ms/step - loss: 0.6641 - accuracy: 0.5978 - val_loss: 0.6303 - val_accuracy: 0.6015\n",
      "Epoch 35/35\n",
      "44/44 [==============================] - 0s 3ms/step - loss: 0.6572 - accuracy: 0.6101 - val_loss: 0.8176 - val_accuracy: 0.3383\n"
     ]
    }
   ],
   "source": [
    "import tensorflow as tf\n",
    "\n",
    "def create_mlp_model(input_shape):\n",
    "    model = tf.keras.Sequential([\n",
    "        tf.keras.layers.Dense(128, activation='relu', input_shape=input_shape),\n",
    "        tf.keras.layers.Dense(64, activation='relu'),\n",
    "        tf.keras.layers.Dense(32, activation='relu'),\n",
    "        tf.keras.layers.Dense(1, activation='sigmoid')\n",
    "    ])\n",
    "    return model\n",
    "\n",
    "\n",
    "mlp_model = create_mlp_model(input_shape=X_train.shape[1:])\n",
    "mlp_model.compile(optimizer='adam',\n",
    "                   loss='binary_crossentropy',\n",
    "                   metrics=['accuracy'])\n",
    "\n",
    "history = mlp_model.fit(X_train, y_train, epochs=35, batch_size=32, validation_data=(X_valid, y_valid))"
   ]
  },
  {
   "cell_type": "code",
   "execution_count": 34,
   "id": "2a21eecf",
   "metadata": {},
   "outputs": [
    {
     "name": "stdout",
     "output_type": "stream",
     "text": [
      "14/14 [==============================] - 0s 2ms/step - loss: 0.8603 - accuracy: 0.3054\n",
      "Test Loss: 0.8603405952453613, Test Accuracy: 0.3054298758506775\n"
     ]
    }
   ],
   "source": [
    "# Evaluate the model\n",
    "loss, accuracy = mlp_model.evaluate(X_test, y_test)\n",
    "print(f\"Test Loss: {loss}, Test Accuracy: {accuracy}\")"
   ]
  },
  {
   "cell_type": "code",
   "execution_count": 35,
   "id": "d547a617",
   "metadata": {},
   "outputs": [
    {
     "data": {
      "image/png": "[encoded data removed]",
      "text/plain": [
       "<Figure size 800x500 with 1 Axes>"
      ]
     },
     "metadata": {},
     "output_type": "display_data"
    }
   ],
   "source": [
    "pd.DataFrame(history.history).plot(\n",
    "    figsize = (8,5), xlim=[0,35], ylim=[0,1], grid=True, xlabel=\"Epoch\",\n",
    "    style=[\"r--\", \"r-\", \"b--\", \"b-*\"]\n",
    ")\n",
    "plt.show()"
   ]
  },
  {
   "cell_type": "code",
   "execution_count": 36,
   "id": "2ccf5856",
   "metadata": {},
   "outputs": [
    {
     "name": "stdout",
     "output_type": "stream",
     "text": [
      "14/14 [==============================] - 0s 2ms/step\n",
      "              precision    recall  f1-score   support\n",
      "\n",
      "           0       0.91      0.12      0.21       343\n",
      "           1       0.24      0.96      0.38        99\n",
      "\n",
      "    accuracy                           0.31       442\n",
      "   macro avg       0.57      0.54      0.29       442\n",
      "weighted avg       0.76      0.31      0.25       442\n",
      "\n"
     ]
    }
   ],
   "source": [
    "y_pred = (mlp_model.predict(X_test) > 0.5).astype(\"int32\")\n",
    "print(classification_report(y_test, y_pred))"
   ]
  },
  {
   "cell_type": "markdown",
   "id": "6ea6f742",
   "metadata": {},
   "source": [
    "#### LSTM"
   ]
  },
  {
   "cell_type": "code",
   "execution_count": 37,
   "id": "af58a731",
   "metadata": {},
   "outputs": [
    {
     "name": "stdout",
     "output_type": "stream",
     "text": [
      "Epoch 1/35\n",
      "44/44 [==============================] - 6s 31ms/step - loss: 0.6959 - accuracy: 0.4863 - val_loss: 0.7069 - val_accuracy: 0.2030\n",
      "Epoch 2/35\n",
      "44/44 [==============================] - 0s 11ms/step - loss: 0.6924 - accuracy: 0.5201 - val_loss: 0.6672 - val_accuracy: 0.7895\n",
      "Epoch 3/35\n",
      "44/44 [==============================] - 0s 11ms/step - loss: 0.6922 - accuracy: 0.5252 - val_loss: 0.6898 - val_accuracy: 0.5489\n",
      "Epoch 4/35\n",
      "44/44 [==============================] - 0s 11ms/step - loss: 0.6885 - accuracy: 0.5460 - val_loss: 0.6557 - val_accuracy: 0.6767\n",
      "Epoch 5/35\n",
      "44/44 [==============================] - 0s 11ms/step - loss: 0.6873 - accuracy: 0.5511 - val_loss: 0.6413 - val_accuracy: 0.6617\n",
      "Epoch 6/35\n",
      "44/44 [==============================] - 0s 11ms/step - loss: 0.6844 - accuracy: 0.5540 - val_loss: 0.6647 - val_accuracy: 0.5489\n",
      "Epoch 7/35\n",
      "44/44 [==============================] - 0s 11ms/step - loss: 0.6836 - accuracy: 0.5554 - val_loss: 0.6953 - val_accuracy: 0.5113\n",
      "Epoch 8/35\n",
      "44/44 [==============================] - 0s 11ms/step - loss: 0.6847 - accuracy: 0.5525 - val_loss: 0.6681 - val_accuracy: 0.5414\n",
      "Epoch 9/35\n",
      "44/44 [==============================] - 0s 11ms/step - loss: 0.6830 - accuracy: 0.5396 - val_loss: 0.6028 - val_accuracy: 0.5865\n",
      "Epoch 10/35\n",
      "44/44 [==============================] - 0s 11ms/step - loss: 0.6845 - accuracy: 0.5504 - val_loss: 0.6255 - val_accuracy: 0.5865\n",
      "Epoch 11/35\n",
      "44/44 [==============================] - 0s 11ms/step - loss: 0.6783 - accuracy: 0.5604 - val_loss: 0.6520 - val_accuracy: 0.5789\n",
      "Epoch 12/35\n",
      "44/44 [==============================] - 0s 11ms/step - loss: 0.6763 - accuracy: 0.5698 - val_loss: 0.6535 - val_accuracy: 0.6015\n",
      "Epoch 13/35\n",
      "44/44 [==============================] - 0s 11ms/step - loss: 0.6726 - accuracy: 0.5827 - val_loss: 0.5973 - val_accuracy: 0.6842\n",
      "Epoch 14/35\n",
      "44/44 [==============================] - 0s 11ms/step - loss: 0.6788 - accuracy: 0.5655 - val_loss: 0.6261 - val_accuracy: 0.6541\n",
      "Epoch 15/35\n",
      "44/44 [==============================] - 0s 11ms/step - loss: 0.6743 - accuracy: 0.5626 - val_loss: 0.6055 - val_accuracy: 0.6165\n",
      "Epoch 16/35\n",
      "44/44 [==============================] - 0s 11ms/step - loss: 0.6698 - accuracy: 0.5698 - val_loss: 0.6494 - val_accuracy: 0.5038\n",
      "Epoch 17/35\n",
      "44/44 [==============================] - 0s 11ms/step - loss: 0.6734 - accuracy: 0.5633 - val_loss: 0.6536 - val_accuracy: 0.4812\n",
      "Epoch 18/35\n",
      "44/44 [==============================] - 0s 11ms/step - loss: 0.6707 - accuracy: 0.5683 - val_loss: 0.6059 - val_accuracy: 0.6165\n",
      "Epoch 19/35\n",
      "44/44 [==============================] - 0s 11ms/step - loss: 0.6690 - accuracy: 0.5561 - val_loss: 0.6103 - val_accuracy: 0.6165\n",
      "Epoch 20/35\n",
      "44/44 [==============================] - 1s 11ms/step - loss: 0.6703 - accuracy: 0.5748 - val_loss: 0.5960 - val_accuracy: 0.6391\n",
      "Epoch 21/35\n",
      "44/44 [==============================] - 0s 11ms/step - loss: 0.6672 - accuracy: 0.5799 - val_loss: 0.7180 - val_accuracy: 0.4135\n",
      "Epoch 22/35\n",
      "44/44 [==============================] - 0s 11ms/step - loss: 0.6674 - accuracy: 0.5849 - val_loss: 0.6114 - val_accuracy: 0.6241\n",
      "Epoch 23/35\n",
      "44/44 [==============================] - 0s 11ms/step - loss: 0.6652 - accuracy: 0.5856 - val_loss: 0.6112 - val_accuracy: 0.5865\n",
      "Epoch 24/35\n",
      "44/44 [==============================] - 0s 11ms/step - loss: 0.6675 - accuracy: 0.5842 - val_loss: 0.5980 - val_accuracy: 0.6316\n",
      "Epoch 25/35\n",
      "44/44 [==============================] - 0s 11ms/step - loss: 0.6706 - accuracy: 0.5856 - val_loss: 0.6177 - val_accuracy: 0.6241\n",
      "Epoch 26/35\n",
      "44/44 [==============================] - 0s 11ms/step - loss: 0.6642 - accuracy: 0.5942 - val_loss: 0.6101 - val_accuracy: 0.6090\n",
      "Epoch 27/35\n",
      "44/44 [==============================] - 0s 11ms/step - loss: 0.6664 - accuracy: 0.5813 - val_loss: 0.6488 - val_accuracy: 0.5489\n",
      "Epoch 28/35\n",
      "44/44 [==============================] - 0s 11ms/step - loss: 0.6667 - accuracy: 0.5885 - val_loss: 0.6448 - val_accuracy: 0.5564\n",
      "Epoch 29/35\n",
      "44/44 [==============================] - 0s 10ms/step - loss: 0.6638 - accuracy: 0.5871 - val_loss: 0.6054 - val_accuracy: 0.6692\n",
      "Epoch 30/35\n",
      "44/44 [==============================] - 0s 11ms/step - loss: 0.6644 - accuracy: 0.5835 - val_loss: 0.6468 - val_accuracy: 0.5263\n",
      "Epoch 31/35\n",
      "44/44 [==============================] - 0s 11ms/step - loss: 0.6657 - accuracy: 0.5741 - val_loss: 0.6496 - val_accuracy: 0.5414\n",
      "Epoch 32/35\n",
      "44/44 [==============================] - 0s 11ms/step - loss: 0.6638 - accuracy: 0.5906 - val_loss: 0.6513 - val_accuracy: 0.5489\n",
      "Epoch 33/35\n",
      "44/44 [==============================] - 0s 10ms/step - loss: 0.6640 - accuracy: 0.5942 - val_loss: 0.6466 - val_accuracy: 0.5489\n",
      "Epoch 34/35\n",
      "44/44 [==============================] - 0s 10ms/step - loss: 0.6639 - accuracy: 0.5957 - val_loss: 0.6324 - val_accuracy: 0.5940\n",
      "Epoch 35/35\n",
      "44/44 [==============================] - 0s 11ms/step - loss: 0.6630 - accuracy: 0.5849 - val_loss: 0.6423 - val_accuracy: 0.6316\n"
     ]
    }
   ],
   "source": [
    "from tensorflow.keras.models import Sequential\n",
    "from tensorflow.keras.layers import LSTM, Dense, Dropout\n",
    "import numpy as np\n",
    "\n",
    "# Convert DataFrames to NumPy arrays\n",
    "X_train_array = X_train.values\n",
    "X_test_array = X_test.values\n",
    "\n",
    "# Reshape the input data for LSTM\n",
    "X_train_reshaped = X_train_array.reshape(X_train_array.shape[0], X_train_array.shape[1], 1)\n",
    "X_test_reshaped = X_test_array.reshape(X_test_array.shape[0], X_test_array.shape[1], 1)\n",
    "\n",
    "\n",
    "def create_lstm_model(input_shape):\n",
    "    model = Sequential([\n",
    "        LSTM(64, input_shape=input_shape, return_sequences=True),\n",
    "        Dropout(0.2),\n",
    "        LSTM(32),\n",
    "        Dropout(0.2),\n",
    "        Dense(16, activation='relu'),\n",
    "        Dense(1, activation='sigmoid')\n",
    "    ])\n",
    "    return model\n",
    "\n",
    "\n",
    "lstm_model = create_lstm_model(input_shape=(X_train_reshaped.shape[1], 1))\n",
    "lstm_model.compile(optimizer='adam',\n",
    "                   loss='binary_crossentropy',\n",
    "                   metrics=['accuracy'])\n",
    "\n",
    "\n",
    "history = lstm_model.fit(X_train_reshaped, y_train, epochs=35, batch_size=32, validation_data=(X_valid, y_valid))"
   ]
  },
  {
   "cell_type": "code",
   "execution_count": 38,
   "id": "8cef3e73",
   "metadata": {},
   "outputs": [
    {
     "name": "stdout",
     "output_type": "stream",
     "text": [
      "14/14 [==============================] - 1s 4ms/step - loss: 0.6863 - accuracy: 0.5362\n",
      "Test Loss: 0.6862748861312866, Test Accuracy: 0.5361990928649902\n"
     ]
    }
   ],
   "source": [
    "# Evaluate the model\n",
    "loss, accuracy = lstm_model.evaluate(X_test_reshaped, y_test)\n",
    "print(f\"Test Loss: {loss}, Test Accuracy: {accuracy}\")"
   ]
  },
  {
   "cell_type": "code",
   "execution_count": 39,
   "id": "a9647161",
   "metadata": {},
   "outputs": [
    {
     "data": {
      "image/png": "[encoded data removed]",
      "text/plain": [
       "<Figure size 800x500 with 1 Axes>"
      ]
     },
     "metadata": {},
     "output_type": "display_data"
    }
   ],
   "source": [
    "pd.DataFrame(history.history).plot(\n",
    "    figsize = (8,5), xlim=[0,35], ylim=[0,1], grid=True, xlabel=\"Epoch\",\n",
    "    style=[\"r--\", \"r-\", \"b--\", \"b-*\"]\n",
    ")\n",
    "plt.show()"
   ]
  },
  {
   "cell_type": "code",
   "execution_count": 40,
   "id": "85c2ef0d",
   "metadata": {},
   "outputs": [
    {
     "name": "stdout",
     "output_type": "stream",
     "text": [
      "14/14 [==============================] - 1s 4ms/step\n",
      "              precision    recall  f1-score   support\n",
      "\n",
      "           0       0.81      0.52      0.64       343\n",
      "           1       0.26      0.59      0.36        99\n",
      "\n",
      "    accuracy                           0.54       442\n",
      "   macro avg       0.54      0.55      0.50       442\n",
      "weighted avg       0.69      0.54      0.57       442\n",
      "\n"
     ]
    }
   ],
   "source": [
    "y_pred = (lstm_model.predict(X_test_reshaped) > 0.5).astype(\"int32\")\n",
    "print(classification_report(y_test, y_pred))"
   ]
  },
  {
   "cell_type": "markdown",
   "id": "e61e8aa9",
   "metadata": {},
   "source": [
    "### Model Comparison"
   ]
  },
  {
   "cell_type": "code",
   "execution_count": 41,
   "id": "ec4f0488",
   "metadata": {},
   "outputs": [
    {
     "name": "stdout",
     "output_type": "stream",
     "text": [
      "14/14 [==============================] - 0s 1ms/step\n",
      "14/14 [==============================] - 1s 4ms/step\n"
     ]
    }
   ],
   "source": [
    "import matplotlib.pyplot as plt\n",
    "from sklearn.metrics import accuracy_score, f1_score\n",
    "\n",
    "# Define models\n",
    "models = [best_svc_model, best_dt_model, best_knn_model, mlp_model, lstm_model]\n",
    "model_names = ['SVC', 'Decision Tree', 'KNN', 'MLP', 'LSTM']\n",
    "\n",
    "# Initialize lists\n",
    "weighted_f1_scores = []\n",
    "accuracy_scores = []\n",
    "actual_labels = []\n",
    "predicted_labels = []\n",
    "\n",
    "# Calculate weighted F1-score and accuracy for each model\n",
    "for model in models:\n",
    "    y_pred = model.predict(X_test)\n",
    "    y_pred_binary = (y_pred > 0.5).astype(int)\n",
    "    weighted_f1 = f1_score(y_test, y_pred_binary, average='weighted')\n",
    "    weighted_f1_scores.append(weighted_f1)\n",
    "    accuracy = accuracy_score(y_test, y_pred_binary)\n",
    "    accuracy_scores.append(accuracy)\n",
    "    actual_labels.append(y_test)\n",
    "    predicted_labels.append(y_pred_binary)"
   ]
  },
  {
   "cell_type": "code",
   "execution_count": 42,
   "id": "7fdd2c25",
   "metadata": {},
   "outputs": [
    {
     "data": {
      "image/png": "[encoded data removed]",
      "text/plain": [
       "<Figure size 1000x600 with 1 Axes>"
      ]
     },
     "metadata": {},
     "output_type": "display_data"
    }
   ],
   "source": [
    "# Plot grouped bar chart\n",
    "x = np.arange(len(model_names))\n",
    "width = 0.35 \n",
    "\n",
    "fig, ax = plt.subplots(figsize=(10, 6))\n",
    "rects1 = ax.bar(x - width/2, weighted_f1_scores, width, label='Weighted F1-score', color='mediumseagreen')\n",
    "rects2 = ax.bar(x + width/2, accuracy_scores, width, label='Accuracy', color='seagreen')\n",
    "\n",
    "ax.set_ylabel('Scores')\n",
    "ax.set_title('Comparison of Weighted F1-score and Accuracy for Different Models')\n",
    "ax.set_xticks(x)\n",
    "ax.set_xticklabels(model_names)\n",
    "ax.legend()\n",
    "\n",
    "# Label bars with values\n",
    "def autolabel(rects):\n",
    "    for rect in rects:\n",
    "        height = rect.get_height()\n",
    "        ax.annotate('{}'.format(round(height, 2)),\n",
    "                    xy=(rect.get_x() + rect.get_width() / 2, height),\n",
    "                    xytext=(0, 3),\n",
    "                    textcoords=\"offset points\",\n",
    "                    ha='center', va='bottom')\n",
    "\n",
    "autolabel(rects1)\n",
    "autolabel(rects2)\n",
    "fig.tight_layout()\n",
    "plt.show()"
   ]
  }
 ],
 "metadata": {
  "kernelspec": {
   "display_name": "Python 3 (ipykernel)",
   "language": "python",
   "name": "python3"
  },
  "language_info": {
   "codemirror_mode": {
    "name": "ipython",
    "version": 3
   },
   "file_extension": ".py",
   "mimetype": "text/x-python",
   "name": "python",
   "nbconvert_exporter": "python",
   "pygments_lexer": "ipython3",
   "version": "3.9.13"
  }
 },
 "nbformat": 4,
 "nbformat_minor": 5
}
