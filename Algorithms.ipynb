{
 "cells": [
  {
   "cell_type": "markdown",
   "id": "6ee7416c",
   "metadata": {},
   "source": [
    "### Load The Data"
   ]
  },
  {
   "cell_type": "code",
   "execution_count": 1,
   "id": "ce47f4c4",
   "metadata": {},
   "outputs": [
    {
     "data": {
      "text/html": [
       "<div>\n",
       "<style scoped>\n",
       "    .dataframe tbody tr th:only-of-type {\n",
       "        vertical-align: middle;\n",
       "    }\n",
       "\n",
       "    .dataframe tbody tr th {\n",
       "        vertical-align: top;\n",
       "    }\n",
       "\n",
       "    .dataframe thead th {\n",
       "        text-align: right;\n",
       "    }\n",
       "</style>\n",
       "<table border=\"1\" class=\"dataframe\">\n",
       "  <thead>\n",
       "    <tr style=\"text-align: right;\">\n",
       "      <th></th>\n",
       "      <th>Sex</th>\n",
       "      <th>Height</th>\n",
       "      <th>Weight</th>\n",
       "      <th>Pregnancy status</th>\n",
       "      <th>Age_Adolescent</th>\n",
       "      <th>Age_Child</th>\n",
       "      <th>Age_Infant</th>\n",
       "      <th>Age_Neonate</th>\n",
       "      <th>Murmur</th>\n",
       "    </tr>\n",
       "  </thead>\n",
       "  <tbody>\n",
       "    <tr>\n",
       "      <th>0</th>\n",
       "      <td>1</td>\n",
       "      <td>98.0</td>\n",
       "      <td>15.9</td>\n",
       "      <td>0</td>\n",
       "      <td>0</td>\n",
       "      <td>1</td>\n",
       "      <td>0</td>\n",
       "      <td>0</td>\n",
       "      <td>0</td>\n",
       "    </tr>\n",
       "    <tr>\n",
       "      <th>1</th>\n",
       "      <td>1</td>\n",
       "      <td>103.0</td>\n",
       "      <td>13.1</td>\n",
       "      <td>0</td>\n",
       "      <td>0</td>\n",
       "      <td>1</td>\n",
       "      <td>0</td>\n",
       "      <td>0</td>\n",
       "      <td>1</td>\n",
       "    </tr>\n",
       "    <tr>\n",
       "      <th>2</th>\n",
       "      <td>0</td>\n",
       "      <td>98.0</td>\n",
       "      <td>15.9</td>\n",
       "      <td>0</td>\n",
       "      <td>0</td>\n",
       "      <td>1</td>\n",
       "      <td>0</td>\n",
       "      <td>0</td>\n",
       "      <td>1</td>\n",
       "    </tr>\n",
       "    <tr>\n",
       "      <th>3</th>\n",
       "      <td>0</td>\n",
       "      <td>87.0</td>\n",
       "      <td>11.2</td>\n",
       "      <td>0</td>\n",
       "      <td>0</td>\n",
       "      <td>1</td>\n",
       "      <td>0</td>\n",
       "      <td>0</td>\n",
       "      <td>1</td>\n",
       "    </tr>\n",
       "    <tr>\n",
       "      <th>4</th>\n",
       "      <td>0</td>\n",
       "      <td>115.0</td>\n",
       "      <td>21.3</td>\n",
       "      <td>0</td>\n",
       "      <td>0</td>\n",
       "      <td>1</td>\n",
       "      <td>0</td>\n",
       "      <td>0</td>\n",
       "      <td>0</td>\n",
       "    </tr>\n",
       "  </tbody>\n",
       "</table>\n",
       "</div>"
      ],
      "text/plain": [
       "   Sex  Height  Weight  Pregnancy status  Age_Adolescent  Age_Child  \\\n",
       "0    1    98.0    15.9                 0               0          1   \n",
       "1    1   103.0    13.1                 0               0          1   \n",
       "2    0    98.0    15.9                 0               0          1   \n",
       "3    0    87.0    11.2                 0               0          1   \n",
       "4    0   115.0    21.3                 0               0          1   \n",
       "\n",
       "   Age_Infant  Age_Neonate  Murmur  \n",
       "0           0            0       0  \n",
       "1           0            0       1  \n",
       "2           0            0       1  \n",
       "3           0            0       1  \n",
       "4           0            0       0  "
      ]
     },
     "execution_count": 1,
     "metadata": {},
     "output_type": "execute_result"
    }
   ],
   "source": [
    "import pandas as pd\n",
    "\n",
    "df = pd.read_csv('preprocessed_tabular.csv')\n",
    "df.head()"
   ]
  },
  {
   "cell_type": "code",
   "execution_count": 2,
   "id": "4d2bfa30",
   "metadata": {},
   "outputs": [
    {
     "name": "stdout",
     "output_type": "stream",
     "text": [
      "<class 'pandas.core.frame.DataFrame'>\n",
      "RangeIndex: 874 entries, 0 to 873\n",
      "Data columns (total 9 columns):\n",
      " #   Column            Non-Null Count  Dtype  \n",
      "---  ------            --------------  -----  \n",
      " 0   Sex               874 non-null    int64  \n",
      " 1   Height            874 non-null    float64\n",
      " 2   Weight            874 non-null    float64\n",
      " 3   Pregnancy status  874 non-null    int64  \n",
      " 4   Age_Adolescent    874 non-null    int64  \n",
      " 5   Age_Child         874 non-null    int64  \n",
      " 6   Age_Infant        874 non-null    int64  \n",
      " 7   Age_Neonate       874 non-null    int64  \n",
      " 8   Murmur            874 non-null    int64  \n",
      "dtypes: float64(2), int64(7)\n",
      "memory usage: 61.6 KB\n"
     ]
    }
   ],
   "source": [
    "df.info()"
   ]
  },
  {
   "cell_type": "code",
   "execution_count": 3,
   "id": "43805bc5",
   "metadata": {},
   "outputs": [
    {
     "data": {
      "text/html": [
       "<div>\n",
       "<style scoped>\n",
       "    .dataframe tbody tr th:only-of-type {\n",
       "        vertical-align: middle;\n",
       "    }\n",
       "\n",
       "    .dataframe tbody tr th {\n",
       "        vertical-align: top;\n",
       "    }\n",
       "\n",
       "    .dataframe thead th {\n",
       "        text-align: right;\n",
       "    }\n",
       "</style>\n",
       "<table border=\"1\" class=\"dataframe\">\n",
       "  <thead>\n",
       "    <tr style=\"text-align: right;\">\n",
       "      <th></th>\n",
       "      <th>Sex</th>\n",
       "      <th>Height</th>\n",
       "      <th>Weight</th>\n",
       "      <th>Pregnancy status</th>\n",
       "      <th>Age_Adolescent</th>\n",
       "      <th>Age_Child</th>\n",
       "      <th>Age_Infant</th>\n",
       "      <th>Age_Neonate</th>\n",
       "      <th>Murmur</th>\n",
       "    </tr>\n",
       "  </thead>\n",
       "  <tbody>\n",
       "    <tr>\n",
       "      <th>count</th>\n",
       "      <td>874.000000</td>\n",
       "      <td>874.000000</td>\n",
       "      <td>874.000000</td>\n",
       "      <td>874.000000</td>\n",
       "      <td>874.000000</td>\n",
       "      <td>874.000000</td>\n",
       "      <td>874.000000</td>\n",
       "      <td>874.000000</td>\n",
       "      <td>874.000000</td>\n",
       "    </tr>\n",
       "    <tr>\n",
       "      <th>mean</th>\n",
       "      <td>0.511442</td>\n",
       "      <td>115.167048</td>\n",
       "      <td>26.971968</td>\n",
       "      <td>0.077803</td>\n",
       "      <td>0.161327</td>\n",
       "      <td>0.717391</td>\n",
       "      <td>0.115561</td>\n",
       "      <td>0.005721</td>\n",
       "      <td>0.204805</td>\n",
       "    </tr>\n",
       "    <tr>\n",
       "      <th>std</th>\n",
       "      <td>0.500155</td>\n",
       "      <td>30.408476</td>\n",
       "      <td>17.859723</td>\n",
       "      <td>0.268015</td>\n",
       "      <td>0.368043</td>\n",
       "      <td>0.450526</td>\n",
       "      <td>0.319880</td>\n",
       "      <td>0.075463</td>\n",
       "      <td>0.403790</td>\n",
       "    </tr>\n",
       "    <tr>\n",
       "      <th>min</th>\n",
       "      <td>0.000000</td>\n",
       "      <td>35.000000</td>\n",
       "      <td>3.200000</td>\n",
       "      <td>0.000000</td>\n",
       "      <td>0.000000</td>\n",
       "      <td>0.000000</td>\n",
       "      <td>0.000000</td>\n",
       "      <td>0.000000</td>\n",
       "      <td>0.000000</td>\n",
       "    </tr>\n",
       "    <tr>\n",
       "      <th>25%</th>\n",
       "      <td>0.000000</td>\n",
       "      <td>94.000000</td>\n",
       "      <td>13.900000</td>\n",
       "      <td>0.000000</td>\n",
       "      <td>0.000000</td>\n",
       "      <td>0.000000</td>\n",
       "      <td>0.000000</td>\n",
       "      <td>0.000000</td>\n",
       "      <td>0.000000</td>\n",
       "    </tr>\n",
       "    <tr>\n",
       "      <th>50%</th>\n",
       "      <td>1.000000</td>\n",
       "      <td>117.000000</td>\n",
       "      <td>22.100000</td>\n",
       "      <td>0.000000</td>\n",
       "      <td>0.000000</td>\n",
       "      <td>1.000000</td>\n",
       "      <td>0.000000</td>\n",
       "      <td>0.000000</td>\n",
       "      <td>0.000000</td>\n",
       "    </tr>\n",
       "    <tr>\n",
       "      <th>75%</th>\n",
       "      <td>1.000000</td>\n",
       "      <td>139.000000</td>\n",
       "      <td>35.425000</td>\n",
       "      <td>0.000000</td>\n",
       "      <td>0.000000</td>\n",
       "      <td>1.000000</td>\n",
       "      <td>0.000000</td>\n",
       "      <td>0.000000</td>\n",
       "      <td>0.000000</td>\n",
       "    </tr>\n",
       "    <tr>\n",
       "      <th>max</th>\n",
       "      <td>1.000000</td>\n",
       "      <td>180.000000</td>\n",
       "      <td>110.800000</td>\n",
       "      <td>1.000000</td>\n",
       "      <td>1.000000</td>\n",
       "      <td>1.000000</td>\n",
       "      <td>1.000000</td>\n",
       "      <td>1.000000</td>\n",
       "      <td>1.000000</td>\n",
       "    </tr>\n",
       "  </tbody>\n",
       "</table>\n",
       "</div>"
      ],
      "text/plain": [
       "              Sex      Height      Weight  Pregnancy status  Age_Adolescent  \\\n",
       "count  874.000000  874.000000  874.000000        874.000000      874.000000   \n",
       "mean     0.511442  115.167048   26.971968          0.077803        0.161327   \n",
       "std      0.500155   30.408476   17.859723          0.268015        0.368043   \n",
       "min      0.000000   35.000000    3.200000          0.000000        0.000000   \n",
       "25%      0.000000   94.000000   13.900000          0.000000        0.000000   \n",
       "50%      1.000000  117.000000   22.100000          0.000000        0.000000   \n",
       "75%      1.000000  139.000000   35.425000          0.000000        0.000000   \n",
       "max      1.000000  180.000000  110.800000          1.000000        1.000000   \n",
       "\n",
       "        Age_Child  Age_Infant  Age_Neonate      Murmur  \n",
       "count  874.000000  874.000000   874.000000  874.000000  \n",
       "mean     0.717391    0.115561     0.005721    0.204805  \n",
       "std      0.450526    0.319880     0.075463    0.403790  \n",
       "min      0.000000    0.000000     0.000000    0.000000  \n",
       "25%      0.000000    0.000000     0.000000    0.000000  \n",
       "50%      1.000000    0.000000     0.000000    0.000000  \n",
       "75%      1.000000    0.000000     0.000000    0.000000  \n",
       "max      1.000000    1.000000     1.000000    1.000000  "
      ]
     },
     "execution_count": 3,
     "metadata": {},
     "output_type": "execute_result"
    }
   ],
   "source": [
    "df.describe()"
   ]
  },
  {
   "cell_type": "code",
   "execution_count": 4,
   "id": "19b7b26e",
   "metadata": {},
   "outputs": [
    {
     "data": {
      "text/plain": [
       "0    695\n",
       "1    179\n",
       "Name: Murmur, dtype: int64"
      ]
     },
     "execution_count": 4,
     "metadata": {},
     "output_type": "execute_result"
    }
   ],
   "source": [
    "df['Murmur'].value_counts()"
   ]
  },
  {
   "cell_type": "code",
   "execution_count": 5,
   "id": "52fd123b",
   "metadata": {},
   "outputs": [],
   "source": [
    "X = df.drop(['Murmur'], axis=1)\n",
    "y = df['Murmur']"
   ]
  },
  {
   "cell_type": "markdown",
   "id": "a328fd8b",
   "metadata": {},
   "source": [
    "### Data Preprocessing\n",
    "#### SMOTE "
   ]
  },
  {
   "cell_type": "code",
   "execution_count": 6,
   "id": "d5f5eb72",
   "metadata": {},
   "outputs": [
    {
     "name": "stdout",
     "output_type": "stream",
     "text": [
      "Defaulting to user installation because normal site-packages is not writeable\n",
      "Requirement already satisfied: imbalanced-learn in c:\\users\\user\\appdata\\roaming\\python\\python39\\site-packages (0.12.2)\n",
      "Requirement already satisfied: scipy>=1.5.0 in c:\\users\\user\\appdata\\roaming\\python\\python39\\site-packages (from imbalanced-learn) (1.12.0)\n",
      "Requirement already satisfied: threadpoolctl>=2.0.0 in c:\\users\\user\\appdata\\roaming\\python\\python39\\site-packages (from imbalanced-learn) (3.2.0)\n",
      "Requirement already satisfied: joblib>=1.1.1 in c:\\users\\user\\appdata\\roaming\\python\\python39\\site-packages (from imbalanced-learn) (1.3.2)\n",
      "Requirement already satisfied: numpy>=1.17.3 in c:\\users\\user\\appdata\\roaming\\python\\python39\\site-packages (from imbalanced-learn) (1.24.3)\n",
      "Requirement already satisfied: scikit-learn>=1.0.2 in c:\\users\\user\\appdata\\roaming\\python\\python39\\site-packages (from imbalanced-learn) (1.3.2)\n"
     ]
    },
    {
     "name": "stderr",
     "output_type": "stream",
     "text": [
      "WARNING: Ignoring invalid distribution -pencv-python (c:\\users\\user\\appdata\\roaming\\python\\python39\\site-packages)\n",
      "WARNING: Ignoring invalid distribution -pencv-python (c:\\users\\user\\appdata\\roaming\\python\\python39\\site-packages)\n",
      "WARNING: Ignoring invalid distribution -pencv-python (c:\\users\\user\\appdata\\roaming\\python\\python39\\site-packages)\n",
      "WARNING: Ignoring invalid distribution -pencv-python (c:\\users\\user\\appdata\\roaming\\python\\python39\\site-packages)\n",
      "WARNING: Ignoring invalid distribution -pencv-python (c:\\users\\user\\appdata\\roaming\\python\\python39\\site-packages)\n",
      "WARNING: Ignoring invalid distribution -pencv-python (c:\\users\\user\\appdata\\roaming\\python\\python39\\site-packages)\n"
     ]
    }
   ],
   "source": [
    "!pip install imbalanced-learn"
   ]
  },
  {
   "cell_type": "code",
   "execution_count": 7,
   "id": "2e589e27",
   "metadata": {},
   "outputs": [],
   "source": [
    "from imblearn.over_sampling import SMOTE\n",
    "\n",
    "X_resampled, y_resampled = SMOTE().fit_resample(X, y)"
   ]
  },
  {
   "cell_type": "code",
   "execution_count": 8,
   "id": "16ccf55d",
   "metadata": {},
   "outputs": [
    {
     "data": {
      "text/plain": [
       "0    695\n",
       "1    695\n",
       "Name: Murmur, dtype: int64"
      ]
     },
     "execution_count": 8,
     "metadata": {},
     "output_type": "execute_result"
    }
   ],
   "source": [
    "y_resampled.value_counts()"
   ]
  },
  {
   "cell_type": "markdown",
   "id": "271be9ea",
   "metadata": {},
   "source": [
    "#### Near Miss"
   ]
  },
  {
   "cell_type": "code",
   "execution_count": 9,
   "id": "902be3ae",
   "metadata": {},
   "outputs": [],
   "source": [
    "from imblearn.under_sampling import NearMiss\n",
    "\n",
    "X_resampled, y_resampled = NearMiss().fit_resample(X_resampled, y_resampled)"
   ]
  },
  {
   "cell_type": "code",
   "execution_count": 10,
   "id": "d0f23377",
   "metadata": {},
   "outputs": [
    {
     "data": {
      "text/plain": [
       "0    695\n",
       "1    695\n",
       "Name: Murmur, dtype: int64"
      ]
     },
     "execution_count": 10,
     "metadata": {},
     "output_type": "execute_result"
    }
   ],
   "source": [
    "y_resampled.value_counts()"
   ]
  },
  {
   "cell_type": "markdown",
   "id": "ba27a35d",
   "metadata": {},
   "source": [
    "#### ADASYN"
   ]
  },
  {
   "cell_type": "code",
   "execution_count": 11,
   "id": "4eeeabd9",
   "metadata": {},
   "outputs": [],
   "source": [
    "from imblearn.over_sampling import ADASYN\n",
    "\n",
    "X_resampled, y_resampled = ADASYN().fit_resample(X_resampled, y_resampled)"
   ]
  },
  {
   "cell_type": "code",
   "execution_count": 12,
   "id": "6c302410",
   "metadata": {},
   "outputs": [
    {
     "data": {
      "text/html": [
       "<div>\n",
       "<style scoped>\n",
       "    .dataframe tbody tr th:only-of-type {\n",
       "        vertical-align: middle;\n",
       "    }\n",
       "\n",
       "    .dataframe tbody tr th {\n",
       "        vertical-align: top;\n",
       "    }\n",
       "\n",
       "    .dataframe thead th {\n",
       "        text-align: right;\n",
       "    }\n",
       "</style>\n",
       "<table border=\"1\" class=\"dataframe\">\n",
       "  <thead>\n",
       "    <tr style=\"text-align: right;\">\n",
       "      <th></th>\n",
       "      <th>Sex</th>\n",
       "      <th>Height</th>\n",
       "      <th>Weight</th>\n",
       "      <th>Pregnancy status</th>\n",
       "      <th>Age_Adolescent</th>\n",
       "      <th>Age_Child</th>\n",
       "      <th>Age_Infant</th>\n",
       "      <th>Age_Neonate</th>\n",
       "    </tr>\n",
       "  </thead>\n",
       "  <tbody>\n",
       "    <tr>\n",
       "      <th>0</th>\n",
       "      <td>1</td>\n",
       "      <td>98.000000</td>\n",
       "      <td>15.900000</td>\n",
       "      <td>0</td>\n",
       "      <td>0</td>\n",
       "      <td>1</td>\n",
       "      <td>0</td>\n",
       "      <td>0</td>\n",
       "    </tr>\n",
       "    <tr>\n",
       "      <th>1</th>\n",
       "      <td>0</td>\n",
       "      <td>115.000000</td>\n",
       "      <td>21.300000</td>\n",
       "      <td>0</td>\n",
       "      <td>0</td>\n",
       "      <td>1</td>\n",
       "      <td>0</td>\n",
       "      <td>0</td>\n",
       "    </tr>\n",
       "    <tr>\n",
       "      <th>2</th>\n",
       "      <td>1</td>\n",
       "      <td>92.000000</td>\n",
       "      <td>14.000000</td>\n",
       "      <td>0</td>\n",
       "      <td>0</td>\n",
       "      <td>1</td>\n",
       "      <td>0</td>\n",
       "      <td>0</td>\n",
       "    </tr>\n",
       "    <tr>\n",
       "      <th>3</th>\n",
       "      <td>1</td>\n",
       "      <td>98.000000</td>\n",
       "      <td>17.700000</td>\n",
       "      <td>0</td>\n",
       "      <td>0</td>\n",
       "      <td>1</td>\n",
       "      <td>0</td>\n",
       "      <td>0</td>\n",
       "    </tr>\n",
       "    <tr>\n",
       "      <th>4</th>\n",
       "      <td>1</td>\n",
       "      <td>90.000000</td>\n",
       "      <td>14.400000</td>\n",
       "      <td>0</td>\n",
       "      <td>0</td>\n",
       "      <td>1</td>\n",
       "      <td>0</td>\n",
       "      <td>0</td>\n",
       "    </tr>\n",
       "    <tr>\n",
       "      <th>...</th>\n",
       "      <td>...</td>\n",
       "      <td>...</td>\n",
       "      <td>...</td>\n",
       "      <td>...</td>\n",
       "      <td>...</td>\n",
       "      <td>...</td>\n",
       "      <td>...</td>\n",
       "      <td>...</td>\n",
       "    </tr>\n",
       "    <tr>\n",
       "      <th>1385</th>\n",
       "      <td>0</td>\n",
       "      <td>174.000000</td>\n",
       "      <td>108.600000</td>\n",
       "      <td>0</td>\n",
       "      <td>1</td>\n",
       "      <td>0</td>\n",
       "      <td>0</td>\n",
       "      <td>0</td>\n",
       "    </tr>\n",
       "    <tr>\n",
       "      <th>1386</th>\n",
       "      <td>0</td>\n",
       "      <td>175.198092</td>\n",
       "      <td>107.541685</td>\n",
       "      <td>0</td>\n",
       "      <td>1</td>\n",
       "      <td>0</td>\n",
       "      <td>0</td>\n",
       "      <td>0</td>\n",
       "    </tr>\n",
       "    <tr>\n",
       "      <th>1387</th>\n",
       "      <td>0</td>\n",
       "      <td>177.813715</td>\n",
       "      <td>99.403268</td>\n",
       "      <td>0</td>\n",
       "      <td>1</td>\n",
       "      <td>0</td>\n",
       "      <td>0</td>\n",
       "      <td>0</td>\n",
       "    </tr>\n",
       "    <tr>\n",
       "      <th>1388</th>\n",
       "      <td>0</td>\n",
       "      <td>179.564547</td>\n",
       "      <td>103.684650</td>\n",
       "      <td>0</td>\n",
       "      <td>1</td>\n",
       "      <td>0</td>\n",
       "      <td>0</td>\n",
       "      <td>0</td>\n",
       "    </tr>\n",
       "    <tr>\n",
       "      <th>1389</th>\n",
       "      <td>0</td>\n",
       "      <td>180.000000</td>\n",
       "      <td>103.300000</td>\n",
       "      <td>0</td>\n",
       "      <td>1</td>\n",
       "      <td>0</td>\n",
       "      <td>0</td>\n",
       "      <td>0</td>\n",
       "    </tr>\n",
       "  </tbody>\n",
       "</table>\n",
       "<p>1390 rows × 8 columns</p>\n",
       "</div>"
      ],
      "text/plain": [
       "      Sex      Height      Weight  Pregnancy status  Age_Adolescent  \\\n",
       "0       1   98.000000   15.900000                 0               0   \n",
       "1       0  115.000000   21.300000                 0               0   \n",
       "2       1   92.000000   14.000000                 0               0   \n",
       "3       1   98.000000   17.700000                 0               0   \n",
       "4       1   90.000000   14.400000                 0               0   \n",
       "...   ...         ...         ...               ...             ...   \n",
       "1385    0  174.000000  108.600000                 0               1   \n",
       "1386    0  175.198092  107.541685                 0               1   \n",
       "1387    0  177.813715   99.403268                 0               1   \n",
       "1388    0  179.564547  103.684650                 0               1   \n",
       "1389    0  180.000000  103.300000                 0               1   \n",
       "\n",
       "      Age_Child  Age_Infant  Age_Neonate  \n",
       "0             1           0            0  \n",
       "1             1           0            0  \n",
       "2             1           0            0  \n",
       "3             1           0            0  \n",
       "4             1           0            0  \n",
       "...         ...         ...          ...  \n",
       "1385          0           0            0  \n",
       "1386          0           0            0  \n",
       "1387          0           0            0  \n",
       "1388          0           0            0  \n",
       "1389          0           0            0  \n",
       "\n",
       "[1390 rows x 8 columns]"
      ]
     },
     "execution_count": 12,
     "metadata": {},
     "output_type": "execute_result"
    }
   ],
   "source": [
    "X_resampled"
   ]
  },
  {
   "cell_type": "code",
   "execution_count": 13,
   "id": "d12bb345",
   "metadata": {},
   "outputs": [
    {
     "data": {
      "text/plain": [
       "0    695\n",
       "1    695\n",
       "Name: Murmur, dtype: int64"
      ]
     },
     "execution_count": 13,
     "metadata": {},
     "output_type": "execute_result"
    }
   ],
   "source": [
    "y_resampled.value_counts()"
   ]
  },
  {
   "cell_type": "code",
   "execution_count": 14,
   "id": "a63019fc",
   "metadata": {},
   "outputs": [],
   "source": [
    "from sklearn.model_selection import train_test_split\n",
    "\n",
    "X_train, X_test, y_train, y_test = train_test_split(X_resampled, y_resampled, test_size=0.2, stratify=y_resampled)"
   ]
  },
  {
   "cell_type": "code",
   "execution_count": 15,
   "id": "6d55bcac",
   "metadata": {},
   "outputs": [
    {
     "name": "stdout",
     "output_type": "stream",
     "text": [
      "(1112, 8)\n",
      "(278, 8)\n",
      "(1112,)\n",
      "(278,)\n"
     ]
    }
   ],
   "source": [
    "print(X_train.shape)\n",
    "print(X_test.shape)\n",
    "print(y_train.shape)\n",
    "print(y_test.shape)"
   ]
  },
  {
   "cell_type": "markdown",
   "id": "68a0d510",
   "metadata": {},
   "source": [
    "### Models\n",
    "#### SVM"
   ]
  },
  {
   "cell_type": "code",
   "execution_count": 16,
   "id": "e5e0d203",
   "metadata": {},
   "outputs": [
    {
     "name": "stdout",
     "output_type": "stream",
     "text": [
      "Best Parameters: {'C': 22.979816549162248, 'gamma': 0.7797990982879299}\n",
      "Best Score: 0.7518199814163941\n"
     ]
    }
   ],
   "source": [
    "from sklearn.model_selection import RandomizedSearchCV\n",
    "from sklearn.svm import SVC\n",
    "from scipy.stats import uniform\n",
    "\n",
    "\n",
    "param_dist = {'C': uniform(0.1, 100),\n",
    "              'gamma': uniform(0.01, 10)}\n",
    "\n",
    "svm = SVC(kernel='rbf')\n",
    "\n",
    "random_search = RandomizedSearchCV(svm, param_distributions=param_dist, n_iter=100, cv=5, random_state=42)\n",
    "random_search.fit(X_train, y_train)\n",
    "\n",
    "print(\"Best Parameters:\", random_search.best_params_)\n",
    "print(\"Best Score:\", random_search.best_score_)"
   ]
  },
  {
   "cell_type": "code",
   "execution_count": 17,
   "id": "1398959b",
   "metadata": {},
   "outputs": [
    {
     "data": {
      "text/html": [
       "<style>#sk-container-id-1 {color: black;}#sk-container-id-1 pre{padding: 0;}#sk-container-id-1 div.sk-toggleable {background-color: white;}#sk-container-id-1 label.sk-toggleable__label {cursor: pointer;display: block;width: 100%;margin-bottom: 0;padding: 0.3em;box-sizing: border-box;text-align: center;}#sk-container-id-1 label.sk-toggleable__label-arrow:before {content: \"▸\";float: left;margin-right: 0.25em;color: #696969;}#sk-container-id-1 label.sk-toggleable__label-arrow:hover:before {color: black;}#sk-container-id-1 div.sk-estimator:hover label.sk-toggleable__label-arrow:before {color: black;}#sk-container-id-1 div.sk-toggleable__content {max-height: 0;max-width: 0;overflow: hidden;text-align: left;background-color: #f0f8ff;}#sk-container-id-1 div.sk-toggleable__content pre {margin: 0.2em;color: black;border-radius: 0.25em;background-color: #f0f8ff;}#sk-container-id-1 input.sk-toggleable__control:checked~div.sk-toggleable__content {max-height: 200px;max-width: 100%;overflow: auto;}#sk-container-id-1 input.sk-toggleable__control:checked~label.sk-toggleable__label-arrow:before {content: \"▾\";}#sk-container-id-1 div.sk-estimator input.sk-toggleable__control:checked~label.sk-toggleable__label {background-color: #d4ebff;}#sk-container-id-1 div.sk-label input.sk-toggleable__control:checked~label.sk-toggleable__label {background-color: #d4ebff;}#sk-container-id-1 input.sk-hidden--visually {border: 0;clip: rect(1px 1px 1px 1px);clip: rect(1px, 1px, 1px, 1px);height: 1px;margin: -1px;overflow: hidden;padding: 0;position: absolute;width: 1px;}#sk-container-id-1 div.sk-estimator {font-family: monospace;background-color: #f0f8ff;border: 1px dotted black;border-radius: 0.25em;box-sizing: border-box;margin-bottom: 0.5em;}#sk-container-id-1 div.sk-estimator:hover {background-color: #d4ebff;}#sk-container-id-1 div.sk-parallel-item::after {content: \"\";width: 100%;border-bottom: 1px solid gray;flex-grow: 1;}#sk-container-id-1 div.sk-label:hover label.sk-toggleable__label {background-color: #d4ebff;}#sk-container-id-1 div.sk-serial::before {content: \"\";position: absolute;border-left: 1px solid gray;box-sizing: border-box;top: 0;bottom: 0;left: 50%;z-index: 0;}#sk-container-id-1 div.sk-serial {display: flex;flex-direction: column;align-items: center;background-color: white;padding-right: 0.2em;padding-left: 0.2em;position: relative;}#sk-container-id-1 div.sk-item {position: relative;z-index: 1;}#sk-container-id-1 div.sk-parallel {display: flex;align-items: stretch;justify-content: center;background-color: white;position: relative;}#sk-container-id-1 div.sk-item::before, #sk-container-id-1 div.sk-parallel-item::before {content: \"\";position: absolute;border-left: 1px solid gray;box-sizing: border-box;top: 0;bottom: 0;left: 50%;z-index: -1;}#sk-container-id-1 div.sk-parallel-item {display: flex;flex-direction: column;z-index: 1;position: relative;background-color: white;}#sk-container-id-1 div.sk-parallel-item:first-child::after {align-self: flex-end;width: 50%;}#sk-container-id-1 div.sk-parallel-item:last-child::after {align-self: flex-start;width: 50%;}#sk-container-id-1 div.sk-parallel-item:only-child::after {width: 0;}#sk-container-id-1 div.sk-dashed-wrapped {border: 1px dashed gray;margin: 0 0.4em 0.5em 0.4em;box-sizing: border-box;padding-bottom: 0.4em;background-color: white;}#sk-container-id-1 div.sk-label label {font-family: monospace;font-weight: bold;display: inline-block;line-height: 1.2em;}#sk-container-id-1 div.sk-label-container {text-align: center;}#sk-container-id-1 div.sk-container {/* jupyter's `normalize.less` sets `[hidden] { display: none; }` but bootstrap.min.css set `[hidden] { display: none !important; }` so we also need the `!important` here to be able to override the default hidden behavior on the sphinx rendered scikit-learn.org. See: https://github.com/scikit-learn/scikit-learn/issues/21755 */display: inline-block !important;position: relative;}#sk-container-id-1 div.sk-text-repr-fallback {display: none;}</style><div id=\"sk-container-id-1\" class=\"sk-top-container\"><div class=\"sk-text-repr-fallback\"><pre>SVC(C=22.979816549162248, gamma=0.7797990982879299)</pre><b>In a Jupyter environment, please rerun this cell to show the HTML representation or trust the notebook. <br />On GitHub, the HTML representation is unable to render, please try loading this page with nbviewer.org.</b></div><div class=\"sk-container\" hidden><div class=\"sk-item\"><div class=\"sk-estimator sk-toggleable\"><input class=\"sk-toggleable__control sk-hidden--visually\" id=\"sk-estimator-id-1\" type=\"checkbox\" checked><label for=\"sk-estimator-id-1\" class=\"sk-toggleable__label sk-toggleable__label-arrow\">SVC</label><div class=\"sk-toggleable__content\"><pre>SVC(C=22.979816549162248, gamma=0.7797990982879299)</pre></div></div></div></div></div>"
      ],
      "text/plain": [
       "SVC(C=22.979816549162248, gamma=0.7797990982879299)"
      ]
     },
     "execution_count": 17,
     "metadata": {},
     "output_type": "execute_result"
    }
   ],
   "source": [
    "# Extract the best parameters\n",
    "best_params = random_search.best_params_\n",
    "# Create SVM classifier with the best parameters\n",
    "best_svc_model = SVC(kernel='rbf', C=best_params['C'], gamma=best_params['gamma'])\n",
    "best_svc_model.fit(X, y)"
   ]
  },
  {
   "cell_type": "code",
   "execution_count": 18,
   "id": "922e05d2",
   "metadata": {},
   "outputs": [],
   "source": [
    "from sklearn.metrics import classification_report\n",
    "\n",
    "def print_classification_report(X_test, y_test, model):\n",
    "    y_pred = model.predict(X_test)\n",
    "    cr = classification_report(y_test, y_pred)\n",
    "    print(cr)"
   ]
  },
  {
   "cell_type": "code",
   "execution_count": 19,
   "id": "ec39e062",
   "metadata": {},
   "outputs": [
    {
     "name": "stdout",
     "output_type": "stream",
     "text": [
      "              precision    recall  f1-score   support\n",
      "\n",
      "           0       0.71      0.99      0.82       139\n",
      "           1       0.98      0.59      0.74       139\n",
      "\n",
      "    accuracy                           0.79       278\n",
      "   macro avg       0.84      0.79      0.78       278\n",
      "weighted avg       0.84      0.79      0.78       278\n",
      "\n"
     ]
    }
   ],
   "source": [
    "print_classification_report(X_test, y_test, best_svc_model)"
   ]
  },
  {
   "cell_type": "markdown",
   "id": "4249131b",
   "metadata": {},
   "source": [
    "#### Decision Tree"
   ]
  },
  {
   "cell_type": "code",
   "execution_count": 20,
   "id": "50068db2",
   "metadata": {},
   "outputs": [
    {
     "name": "stdout",
     "output_type": "stream",
     "text": [
      "Best Parameters: {'criterion': 'entropy', 'max_depth': 7, 'min_samples_leaf': 17, 'min_samples_split': 6}\n",
      "Best Score: 0.7871789819376027\n"
     ]
    }
   ],
   "source": [
    "from sklearn.tree import DecisionTreeClassifier\n",
    "from scipy.stats import randint\n",
    "\n",
    "param_dist = {'max_depth': randint(5, 20),\n",
    "              'min_samples_split': randint(2, 20),\n",
    "              'min_samples_leaf': randint(1, 20),\n",
    "              'criterion': ['gini', 'entropy']}\n",
    "\n",
    "\n",
    "dt_classifier = DecisionTreeClassifier()\n",
    "\n",
    "\n",
    "random_search_dt = RandomizedSearchCV(dt_classifier, param_distributions=param_dist, n_iter=100, cv=5, random_state=42)\n",
    "random_search_dt.fit(X, y)\n",
    "\n",
    "print(\"Best Parameters:\", random_search_dt.best_params_)\n",
    "print(\"Best Score:\", random_search_dt.best_score_)"
   ]
  },
  {
   "cell_type": "code",
   "execution_count": 21,
   "id": "bbef14a6",
   "metadata": {},
   "outputs": [],
   "source": [
    "# Extract the best Decision Tree model\n",
    "best_dt_model = random_search_dt.best_estimator_"
   ]
  },
  {
   "cell_type": "code",
   "execution_count": 22,
   "id": "0a1498b4",
   "metadata": {},
   "outputs": [
    {
     "name": "stdout",
     "output_type": "stream",
     "text": [
      "              precision    recall  f1-score   support\n",
      "\n",
      "           0       0.51      0.99      0.67       139\n",
      "           1       0.88      0.05      0.10       139\n",
      "\n",
      "    accuracy                           0.52       278\n",
      "   macro avg       0.69      0.52      0.39       278\n",
      "weighted avg       0.69      0.52      0.39       278\n",
      "\n"
     ]
    }
   ],
   "source": [
    "print_classification_report(X_test, y_test, best_dt_model)"
   ]
  },
  {
   "cell_type": "markdown",
   "id": "5ac630d7",
   "metadata": {},
   "source": [
    "#### KNN"
   ]
  },
  {
   "cell_type": "code",
   "execution_count": 23,
   "id": "d33214d4",
   "metadata": {},
   "outputs": [
    {
     "name": "stdout",
     "output_type": "stream",
     "text": [
      "Best Parameters: {'algorithm': 'kd_tree', 'n_neighbors': 38, 'p': 1, 'weights': 'uniform'}\n",
      "Best Score: 0.7951986863711001\n"
     ]
    }
   ],
   "source": [
    "from sklearn.neighbors import KNeighborsClassifier\n",
    "\n",
    "param_dist = {'n_neighbors': randint(10, 50),\n",
    "              'weights': ['uniform', 'distance'],\n",
    "              'algorithm': ['auto', 'ball_tree', 'kd_tree', 'brute'],\n",
    "              'p': [1, 2]}\n",
    "\n",
    "knn_classifier = KNeighborsClassifier()\n",
    "\n",
    "random_search_knn = RandomizedSearchCV(knn_classifier, param_distributions=param_dist, n_iter=100, cv=5, random_state=42)\n",
    "random_search_knn.fit(X, y)\n",
    "\n",
    "print(\"Best Parameters:\", random_search_knn.best_params_)\n",
    "print(\"Best Score:\", random_search_knn.best_score_)"
   ]
  },
  {
   "cell_type": "code",
   "execution_count": 24,
   "id": "1a5b5689",
   "metadata": {},
   "outputs": [],
   "source": [
    "# Extract the best KNN model\n",
    "best_knn_model = random_search_knn.best_estimator_"
   ]
  },
  {
   "cell_type": "code",
   "execution_count": 25,
   "id": "2e451ac4",
   "metadata": {},
   "outputs": [
    {
     "name": "stdout",
     "output_type": "stream",
     "text": [
      "              precision    recall  f1-score   support\n",
      "\n",
      "           0       0.50      1.00      0.67       139\n",
      "           1       0.00      0.00      0.00       139\n",
      "\n",
      "    accuracy                           0.50       278\n",
      "   macro avg       0.25      0.50      0.33       278\n",
      "weighted avg       0.25      0.50      0.33       278\n",
      "\n"
     ]
    },
    {
     "name": "stderr",
     "output_type": "stream",
     "text": [
      "C:\\Users\\User\\AppData\\Roaming\\Python\\Python39\\site-packages\\sklearn\\metrics\\_classification.py:1471: UndefinedMetricWarning: Precision and F-score are ill-defined and being set to 0.0 in labels with no predicted samples. Use `zero_division` parameter to control this behavior.\n",
      "  _warn_prf(average, modifier, msg_start, len(result))\n",
      "C:\\Users\\User\\AppData\\Roaming\\Python\\Python39\\site-packages\\sklearn\\metrics\\_classification.py:1471: UndefinedMetricWarning: Precision and F-score are ill-defined and being set to 0.0 in labels with no predicted samples. Use `zero_division` parameter to control this behavior.\n",
      "  _warn_prf(average, modifier, msg_start, len(result))\n",
      "C:\\Users\\User\\AppData\\Roaming\\Python\\Python39\\site-packages\\sklearn\\metrics\\_classification.py:1471: UndefinedMetricWarning: Precision and F-score are ill-defined and being set to 0.0 in labels with no predicted samples. Use `zero_division` parameter to control this behavior.\n",
      "  _warn_prf(average, modifier, msg_start, len(result))\n"
     ]
    }
   ],
   "source": [
    "print_classification_report(X_test, y_test, best_knn_model)"
   ]
  },
  {
   "cell_type": "markdown",
   "id": "1d581c12",
   "metadata": {},
   "source": [
    "#### MLP"
   ]
  },
  {
   "cell_type": "code",
   "execution_count": 26,
   "id": "f6989fcd",
   "metadata": {},
   "outputs": [
    {
     "name": "stdout",
     "output_type": "stream",
     "text": [
      "Epoch 1/35\n",
      "35/35 [==============================] - 1s 2ms/step - loss: 0.9361 - accuracy: 0.5072\n",
      "Epoch 2/35\n",
      "35/35 [==============================] - 0s 2ms/step - loss: 0.7485 - accuracy: 0.5342\n",
      "Epoch 3/35\n",
      "35/35 [==============================] - 0s 2ms/step - loss: 0.7439 - accuracy: 0.5477\n",
      "Epoch 4/35\n",
      "35/35 [==============================] - 0s 2ms/step - loss: 0.7323 - accuracy: 0.5423\n",
      "Epoch 5/35\n",
      "35/35 [==============================] - 0s 2ms/step - loss: 0.7306 - accuracy: 0.5423\n",
      "Epoch 6/35\n",
      "35/35 [==============================] - 0s 2ms/step - loss: 0.7068 - accuracy: 0.5369\n",
      "Epoch 7/35\n",
      "35/35 [==============================] - 0s 2ms/step - loss: 0.6699 - accuracy: 0.5728\n",
      "Epoch 8/35\n",
      "35/35 [==============================] - 0s 2ms/step - loss: 0.6709 - accuracy: 0.5809\n",
      "Epoch 9/35\n",
      "35/35 [==============================] - 0s 2ms/step - loss: 0.6772 - accuracy: 0.5827\n",
      "Epoch 10/35\n",
      "35/35 [==============================] - 0s 2ms/step - loss: 0.7399 - accuracy: 0.5351\n",
      "Epoch 11/35\n",
      "35/35 [==============================] - 0s 2ms/step - loss: 0.7443 - accuracy: 0.5504\n",
      "Epoch 12/35\n",
      "35/35 [==============================] - 0s 2ms/step - loss: 0.7108 - accuracy: 0.5594\n",
      "Epoch 13/35\n",
      "35/35 [==============================] - 0s 2ms/step - loss: 0.6866 - accuracy: 0.5737\n",
      "Epoch 14/35\n",
      "35/35 [==============================] - 0s 2ms/step - loss: 0.7276 - accuracy: 0.5594\n",
      "Epoch 15/35\n",
      "35/35 [==============================] - 0s 2ms/step - loss: 0.6917 - accuracy: 0.5908\n",
      "Epoch 16/35\n",
      "35/35 [==============================] - 0s 2ms/step - loss: 0.6736 - accuracy: 0.5800\n",
      "Epoch 17/35\n",
      "35/35 [==============================] - 0s 2ms/step - loss: 0.6633 - accuracy: 0.5854\n",
      "Epoch 18/35\n",
      "35/35 [==============================] - 0s 2ms/step - loss: 0.6665 - accuracy: 0.5764\n",
      "Epoch 19/35\n",
      "35/35 [==============================] - 0s 2ms/step - loss: 0.6632 - accuracy: 0.6142\n",
      "Epoch 20/35\n",
      "35/35 [==============================] - 0s 2ms/step - loss: 0.6824 - accuracy: 0.5629\n",
      "Epoch 21/35\n",
      "35/35 [==============================] - 0s 2ms/step - loss: 0.6968 - accuracy: 0.5629\n",
      "Epoch 22/35\n",
      "35/35 [==============================] - 0s 2ms/step - loss: 0.6615 - accuracy: 0.5800\n",
      "Epoch 23/35\n",
      "35/35 [==============================] - 0s 2ms/step - loss: 0.6814 - accuracy: 0.5800\n",
      "Epoch 24/35\n",
      "35/35 [==============================] - 0s 2ms/step - loss: 0.6619 - accuracy: 0.5917\n",
      "Epoch 25/35\n",
      "35/35 [==============================] - 0s 2ms/step - loss: 0.6794 - accuracy: 0.5746\n",
      "Epoch 26/35\n",
      "35/35 [==============================] - 0s 2ms/step - loss: 0.7256 - accuracy: 0.5387\n",
      "Epoch 27/35\n",
      "35/35 [==============================] - 0s 2ms/step - loss: 0.6717 - accuracy: 0.5746\n",
      "Epoch 28/35\n",
      "35/35 [==============================] - 0s 2ms/step - loss: 0.6710 - accuracy: 0.5944\n",
      "Epoch 29/35\n",
      "35/35 [==============================] - 0s 2ms/step - loss: 0.6483 - accuracy: 0.6106\n",
      "Epoch 30/35\n",
      "35/35 [==============================] - 0s 2ms/step - loss: 0.6630 - accuracy: 0.6070\n",
      "Epoch 31/35\n",
      "35/35 [==============================] - 0s 2ms/step - loss: 0.6489 - accuracy: 0.6196\n",
      "Epoch 32/35\n",
      "35/35 [==============================] - 0s 2ms/step - loss: 0.6485 - accuracy: 0.6169\n",
      "Epoch 33/35\n",
      "35/35 [==============================] - 0s 2ms/step - loss: 0.6688 - accuracy: 0.6061\n",
      "Epoch 34/35\n",
      "35/35 [==============================] - 0s 2ms/step - loss: 0.6806 - accuracy: 0.5683\n",
      "Epoch 35/35\n",
      "35/35 [==============================] - 0s 2ms/step - loss: 0.6807 - accuracy: 0.5899\n"
     ]
    },
    {
     "data": {
      "text/plain": [
       "<keras.src.callbacks.History at 0x201ab12f460>"
      ]
     },
     "execution_count": 26,
     "metadata": {},
     "output_type": "execute_result"
    }
   ],
   "source": [
    "import tensorflow as tf\n",
    "\n",
    "def create_mlp_model(input_shape):\n",
    "    model = tf.keras.Sequential([\n",
    "        tf.keras.layers.Dense(128, activation='relu', input_shape=input_shape),\n",
    "        tf.keras.layers.Dense(64, activation='relu'),\n",
    "        tf.keras.layers.Dense(32, activation='relu'),\n",
    "        tf.keras.layers.Dense(1, activation='sigmoid')\n",
    "    ])\n",
    "    return model\n",
    "\n",
    "\n",
    "mlp_model = create_mlp_model(input_shape=X_train.shape[1:])\n",
    "mlp_model.compile(optimizer='adam',\n",
    "                   loss='binary_crossentropy',\n",
    "                   metrics=['accuracy'])\n",
    "\n",
    "mlp_model.fit(X_train, y_train, epochs=35, batch_size=32)"
   ]
  },
  {
   "cell_type": "code",
   "execution_count": 27,
   "id": "2a21eecf",
   "metadata": {},
   "outputs": [
    {
     "name": "stdout",
     "output_type": "stream",
     "text": [
      "9/9 [==============================] - 0s 2ms/step - loss: 0.6157 - accuracy: 0.6763\n",
      "Test Loss: 0.6156764626502991, Test Accuracy: 0.6762589812278748\n"
     ]
    }
   ],
   "source": [
    "# Evaluate the model\n",
    "loss, accuracy = mlp_model.evaluate(X_test, y_test)\n",
    "print(f\"Test Loss: {loss}, Test Accuracy: {accuracy}\")"
   ]
  },
  {
   "cell_type": "code",
   "execution_count": 28,
   "id": "2ccf5856",
   "metadata": {},
   "outputs": [
    {
     "name": "stdout",
     "output_type": "stream",
     "text": [
      "9/9 [==============================] - 0s 2ms/step\n",
      "              precision    recall  f1-score   support\n",
      "\n",
      "           0       0.70      0.63      0.66       139\n",
      "           1       0.66      0.73      0.69       139\n",
      "\n",
      "    accuracy                           0.68       278\n",
      "   macro avg       0.68      0.68      0.68       278\n",
      "weighted avg       0.68      0.68      0.68       278\n",
      "\n"
     ]
    }
   ],
   "source": [
    "y_pred = (mlp_model.predict(X_test) > 0.5).astype(\"int32\")\n",
    "print(classification_report(y_test, y_pred))"
   ]
  },
  {
   "cell_type": "markdown",
   "id": "6ea6f742",
   "metadata": {},
   "source": [
    "#### LSTM"
   ]
  },
  {
   "cell_type": "code",
   "execution_count": 29,
   "id": "af58a731",
   "metadata": {},
   "outputs": [
    {
     "name": "stdout",
     "output_type": "stream",
     "text": [
      "Epoch 1/35\n",
      "35/35 [==============================] - 5s 10ms/step - loss: 0.6965 - accuracy: 0.4892\n",
      "Epoch 2/35\n",
      "35/35 [==============================] - 0s 10ms/step - loss: 0.6934 - accuracy: 0.4982\n",
      "Epoch 3/35\n",
      "35/35 [==============================] - 0s 11ms/step - loss: 0.6930 - accuracy: 0.4991\n",
      "Epoch 4/35\n",
      "35/35 [==============================] - 0s 11ms/step - loss: 0.6916 - accuracy: 0.5441\n",
      "Epoch 5/35\n",
      "35/35 [==============================] - 0s 11ms/step - loss: 0.6921 - accuracy: 0.5180\n",
      "Epoch 6/35\n",
      "35/35 [==============================] - 0s 11ms/step - loss: 0.6928 - accuracy: 0.5117\n",
      "Epoch 7/35\n",
      "35/35 [==============================] - 0s 14ms/step - loss: 0.6865 - accuracy: 0.5495\n",
      "Epoch 8/35\n",
      "35/35 [==============================] - 1s 16ms/step - loss: 0.6837 - accuracy: 0.5638\n",
      "Epoch 9/35\n",
      "35/35 [==============================] - 0s 11ms/step - loss: 0.6784 - accuracy: 0.5621\n",
      "Epoch 10/35\n",
      "35/35 [==============================] - 0s 10ms/step - loss: 0.6768 - accuracy: 0.5746\n",
      "Epoch 11/35\n",
      "35/35 [==============================] - 0s 10ms/step - loss: 0.6703 - accuracy: 0.5845\n",
      "Epoch 12/35\n",
      "35/35 [==============================] - 0s 11ms/step - loss: 0.6728 - accuracy: 0.5872\n",
      "Epoch 13/35\n",
      "35/35 [==============================] - 0s 12ms/step - loss: 0.6686 - accuracy: 0.5818\n",
      "Epoch 14/35\n",
      "35/35 [==============================] - 0s 11ms/step - loss: 0.6690 - accuracy: 0.5674\n",
      "Epoch 15/35\n",
      "35/35 [==============================] - 0s 10ms/step - loss: 0.6638 - accuracy: 0.5944\n",
      "Epoch 16/35\n",
      "35/35 [==============================] - 0s 12ms/step - loss: 0.6679 - accuracy: 0.5917\n",
      "Epoch 17/35\n",
      "35/35 [==============================] - 0s 11ms/step - loss: 0.6668 - accuracy: 0.5845\n",
      "Epoch 18/35\n",
      "35/35 [==============================] - 0s 12ms/step - loss: 0.6628 - accuracy: 0.5845\n",
      "Epoch 19/35\n",
      "35/35 [==============================] - 0s 12ms/step - loss: 0.6608 - accuracy: 0.5962\n",
      "Epoch 20/35\n",
      "35/35 [==============================] - 0s 12ms/step - loss: 0.6677 - accuracy: 0.5899\n",
      "Epoch 21/35\n",
      "35/35 [==============================] - 0s 12ms/step - loss: 0.6601 - accuracy: 0.6025\n",
      "Epoch 22/35\n",
      "35/35 [==============================] - 0s 12ms/step - loss: 0.6630 - accuracy: 0.6070\n",
      "Epoch 23/35\n",
      "35/35 [==============================] - 0s 12ms/step - loss: 0.6598 - accuracy: 0.5881\n",
      "Epoch 24/35\n",
      "35/35 [==============================] - 0s 12ms/step - loss: 0.6654 - accuracy: 0.5980\n",
      "Epoch 25/35\n",
      "35/35 [==============================] - 0s 13ms/step - loss: 0.6671 - accuracy: 0.5944\n",
      "Epoch 26/35\n",
      "35/35 [==============================] - 0s 13ms/step - loss: 0.6593 - accuracy: 0.6034\n",
      "Epoch 27/35\n",
      "35/35 [==============================] - 0s 12ms/step - loss: 0.6621 - accuracy: 0.6025\n",
      "Epoch 28/35\n",
      "35/35 [==============================] - 0s 12ms/step - loss: 0.6616 - accuracy: 0.5971\n",
      "Epoch 29/35\n",
      "35/35 [==============================] - 0s 12ms/step - loss: 0.6603 - accuracy: 0.5980\n",
      "Epoch 30/35\n",
      "35/35 [==============================] - 0s 12ms/step - loss: 0.6623 - accuracy: 0.6034\n",
      "Epoch 31/35\n",
      "35/35 [==============================] - 0s 12ms/step - loss: 0.6587 - accuracy: 0.6034\n",
      "Epoch 32/35\n",
      "35/35 [==============================] - 0s 12ms/step - loss: 0.6598 - accuracy: 0.5935\n",
      "Epoch 33/35\n",
      "35/35 [==============================] - 0s 12ms/step - loss: 0.6574 - accuracy: 0.6124\n",
      "Epoch 34/35\n",
      "35/35 [==============================] - 0s 12ms/step - loss: 0.6637 - accuracy: 0.5953\n",
      "Epoch 35/35\n",
      "35/35 [==============================] - 0s 12ms/step - loss: 0.6604 - accuracy: 0.5908\n"
     ]
    },
    {
     "data": {
      "text/plain": [
       "<keras.src.callbacks.History at 0x201ad641490>"
      ]
     },
     "execution_count": 29,
     "metadata": {},
     "output_type": "execute_result"
    }
   ],
   "source": [
    "from tensorflow.keras.models import Sequential\n",
    "from tensorflow.keras.layers import LSTM, Dense, Dropout\n",
    "import numpy as np\n",
    "\n",
    "# Convert DataFrames to NumPy arrays\n",
    "X_train_array = X_train.values\n",
    "X_test_array = X_test.values\n",
    "\n",
    "# Reshape the input data for LSTM\n",
    "X_train_reshaped = X_train_array.reshape(X_train_array.shape[0], X_train_array.shape[1], 1)\n",
    "X_test_reshaped = X_test_array.reshape(X_test_array.shape[0], X_test_array.shape[1], 1)\n",
    "\n",
    "\n",
    "def create_lstm_model(input_shape):\n",
    "    model = Sequential([\n",
    "        LSTM(64, input_shape=input_shape, return_sequences=True),\n",
    "        Dropout(0.2),\n",
    "        LSTM(32),\n",
    "        Dropout(0.2),\n",
    "        Dense(16, activation='relu'),\n",
    "        Dense(1, activation='sigmoid')\n",
    "    ])\n",
    "    return model\n",
    "\n",
    "\n",
    "lstm_model = create_lstm_model(input_shape=(X_train_reshaped.shape[1], 1))\n",
    "lstm_model.compile(optimizer='adam',\n",
    "                   loss='binary_crossentropy',\n",
    "                   metrics=['accuracy'])\n",
    "\n",
    "\n",
    "lstm_model.fit(X_train_reshaped, y_train, epochs=35, batch_size=32)"
   ]
  },
  {
   "cell_type": "code",
   "execution_count": 30,
   "id": "8cef3e73",
   "metadata": {},
   "outputs": [
    {
     "name": "stdout",
     "output_type": "stream",
     "text": [
      "9/9 [==============================] - 1s 4ms/step - loss: 0.6325 - accuracy: 0.6187\n",
      "Test Loss: 0.6324502825737, Test Accuracy: 0.6187050342559814\n"
     ]
    }
   ],
   "source": [
    "# Evaluate the model\n",
    "loss, accuracy = lstm_model.evaluate(X_test_reshaped, y_test)\n",
    "print(f\"Test Loss: {loss}, Test Accuracy: {accuracy}\")"
   ]
  },
  {
   "cell_type": "code",
   "execution_count": 31,
   "id": "85c2ef0d",
   "metadata": {},
   "outputs": [
    {
     "name": "stdout",
     "output_type": "stream",
     "text": [
      "9/9 [==============================] - 1s 4ms/step\n",
      "              precision    recall  f1-score   support\n",
      "\n",
      "           0       0.67      0.46      0.55       139\n",
      "           1       0.59      0.78      0.67       139\n",
      "\n",
      "    accuracy                           0.62       278\n",
      "   macro avg       0.63      0.62      0.61       278\n",
      "weighted avg       0.63      0.62      0.61       278\n",
      "\n"
     ]
    }
   ],
   "source": [
    "y_pred = (lstm_model.predict(X_test_reshaped) > 0.5).astype(\"int32\")\n",
    "print(classification_report(y_test, y_pred))"
   ]
  },
  {
   "cell_type": "markdown",
   "id": "e61e8aa9",
   "metadata": {},
   "source": [
    "### Model Comparison"
   ]
  },
  {
   "cell_type": "code",
   "execution_count": 32,
   "id": "ec4f0488",
   "metadata": {},
   "outputs": [
    {
     "name": "stdout",
     "output_type": "stream",
     "text": [
      "9/9 [==============================] - 0s 2ms/step\n",
      "9/9 [==============================] - 1s 4ms/step\n"
     ]
    }
   ],
   "source": [
    "import matplotlib.pyplot as plt\n",
    "from sklearn.metrics import accuracy_score, f1_score\n",
    "\n",
    "# Define models\n",
    "models = [best_svc_model, best_dt_model, best_knn_model, mlp_model, lstm_model]\n",
    "model_names = ['SVC', 'Decision Tree', 'KNN', 'MLP', 'LSTM']\n",
    "\n",
    "# Initialize lists\n",
    "weighted_f1_scores = []\n",
    "accuracy_scores = []\n",
    "actual_labels = []\n",
    "predicted_labels = []\n",
    "\n",
    "# Calculate weighted F1-score and accuracy for each model\n",
    "for model in models:\n",
    "    y_pred = model.predict(X_test)\n",
    "    y_pred_binary = (y_pred > 0.5).astype(int)\n",
    "    weighted_f1 = f1_score(y_test, y_pred_binary, average='weighted')\n",
    "    weighted_f1_scores.append(weighted_f1)\n",
    "    accuracy = accuracy_score(y_test, y_pred_binary)\n",
    "    accuracy_scores.append(accuracy)\n",
    "    actual_labels.append(y_test)\n",
    "    predicted_labels.append(y_pred_binary)"
   ]
  },
  {
   "cell_type": "code",
   "execution_count": 34,
   "id": "7fdd2c25",
   "metadata": {},
   "outputs": [
    {
     "data": {
      "image/png": "[encoded data removed]",
      "text/plain": [
       "<Figure size 1000x600 with 1 Axes>"
      ]
     },
     "metadata": {},
     "output_type": "display_data"
    }
   ],
   "source": [
    "# Plot grouped bar chart\n",
    "x = np.arange(len(model_names))\n",
    "width = 0.35 \n",
    "\n",
    "fig, ax = plt.subplots(figsize=(10, 6))\n",
    "rects1 = ax.bar(x - width/2, weighted_f1_scores, width, label='Weighted F1-score', color='skyblue')\n",
    "rects2 = ax.bar(x + width/2, accuracy_scores, width, label='Accuracy', color='lightgreen')\n",
    "\n",
    "ax.set_ylabel('Scores')\n",
    "ax.set_title('Comparison of Weighted F1-score and Accuracy for Different Models')\n",
    "ax.set_xticks(x)\n",
    "ax.set_xticklabels(model_names)\n",
    "ax.legend()\n",
    "\n",
    "# Label bars with values\n",
    "def autolabel(rects):\n",
    "    for rect in rects:\n",
    "        height = rect.get_height()\n",
    "        ax.annotate('{}'.format(round(height, 2)),\n",
    "                    xy=(rect.get_x() + rect.get_width() / 2, height),\n",
    "                    xytext=(0, 3),\n",
    "                    textcoords=\"offset points\",\n",
    "                    ha='center', va='bottom')\n",
    "\n",
    "autolabel(rects1)\n",
    "autolabel(rects2)\n",
    "fig.tight_layout()\n",
    "plt.show()"
   ]
  }
 ],
 "metadata": {
  "kernelspec": {
   "display_name": "Python 3 (ipykernel)",
   "language": "python",
   "name": "python3"
  },
  "language_info": {
   "codemirror_mode": {
    "name": "ipython",
    "version": 3
   },
   "file_extension": ".py",
   "mimetype": "text/x-python",
   "name": "python",
   "nbconvert_exporter": "python",
   "pygments_lexer": "ipython3",
   "version": "3.9.13"
  }
 },
 "nbformat": 4,
 "nbformat_minor": 5
}
